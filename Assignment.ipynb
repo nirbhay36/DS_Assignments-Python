{
 "cells": [
  {
   "cell_type": "markdown",
   "metadata": {},
   "source": [
    "Question 1 -- Write a program that takes a string as input, and counts the frequency of each word in the string, there might\n",
    "be repeated characters in the string. Your task is to find the highest frequency and returns the length of the\n",
    "highest-frequency word.\n",
    "\n",
    "Note - You have to write at least 2 additional test cases in which your program will run successfully and provide\n",
    "an explanation for the same.\n",
    "Example input - string = “write write write all the number from from from 1 to 100”\n",
    "Example output - 5\n",
    "Explanation - From the given string we can note that the most frequent words are “write” and “from” and\n",
    "the maximum value of both the values is “write” and its corresponding length is 5"
   ]
  },
  {
   "cell_type": "code",
   "execution_count": 1,
   "metadata": {},
   "outputs": [
    {
     "name": "stdout",
     "output_type": "stream",
     "text": [
      "Input: write write write all the number from from from 1 to 100\n",
      "Output: 5\n",
      "----------------------------------------\n",
      "Input: the quickest brown fox jumps over the lazy dog\n",
      "Output: 3\n",
      "----------------------------------------\n",
      "Input: I love Python\n",
      "Output: 6\n",
      "----------------------------------------\n"
     ]
    }
   ],
   "source": [
    "def highest_freq_word(string):\n",
    "    # Splitting the string into words\n",
    "    words = string.split()\n",
    "\n",
    "    # Counting the frequency of each word\n",
    "    word_count = {}\n",
    "    for word in words:\n",
    "        word_count[word] = word_count.get(word, 0) + 1\n",
    "\n",
    "    # Finding the highest frequency\n",
    "    max_frequency = max(word_count.values())\n",
    "\n",
    "    # Finding the length of the highest-frequency word\n",
    "    max_length = 0\n",
    "    for word, frequency in word_count.items():\n",
    "        if frequency == max_frequency and len(word) > max_length:\n",
    "            max_length = len(word)\n",
    "\n",
    "    return max_length\n",
    "\n",
    "\n",
    "# Example\n",
    "test_cases = [\n",
    "    (\"write write write all the number from from from 1 to 100\"),\n",
    "    (\"the quickest brown fox jumps over the lazy dog\"),\n",
    "    (\"I love Python\") ]\n",
    "\n",
    "for string in test_cases:\n",
    "    result = highest_freq_word(string)\n",
    "    print(f\"Input: {string}\")\n",
    "    print(f\"Output: {result}\")\n",
    "    print(\"-\" * 40)"
   ]
  },
  {
   "cell_type": "code",
   "execution_count": null,
   "metadata": {},
   "outputs": [],
   "source": []
  },
  {
   "cell_type": "code",
   "execution_count": null,
   "metadata": {},
   "outputs": [],
   "source": []
  },
  {
   "cell_type": "markdown",
   "metadata": {},
   "source": [
    "Question 2: -\n",
    "Consider a string to be valid if all characters of the string appear the same number of times. It is also valid if\n",
    "he can remove just one character at the index in the string, and the remaining characters will occur the same\n",
    "number of times. Given a string, determine if it is valid. If so, return YES , otherwise return NO .\n",
    "\n",
    "Note - You have to write at least 2 additional test cases in which your program will run successfully and provide\n",
    "an explanation for the same.\n",
    "Example input 1 - s = “abc”. This is a valid string because frequencies are { “a”: 1, “b”: 1, “c”: 1 }\n",
    "Example output 1- YES\n",
    "Example input 2 - s “abcc”. This string is not valid as we can remove only 1 occurrence of “c”. That leaves\n",
    "character frequencies of { “a”: 1, “b”: 1 , “c”: 2 }\n",
    "Example output 2 - NO"
   ]
  },
  {
   "cell_type": "code",
   "execution_count": 2,
   "metadata": {},
   "outputs": [
    {
     "name": "stdout",
     "output_type": "stream",
     "text": [
      "Input: abc\n",
      "Output: YES\n",
      "--------------------\n",
      "Input: abcc\n",
      "Output: YES\n",
      "--------------------\n",
      "Input: aabbccc\n",
      "Output: YES\n",
      "--------------------\n",
      "Input: aabbcccd\n",
      "Output: NO\n",
      "--------------------\n"
     ]
    }
   ],
   "source": [
    "def is_valid(s):\n",
    "    # Counting the frequency of each character\n",
    "    char_count = {}\n",
    "    for char in s:\n",
    "        char_count[char] = char_count.get(char, 0) + 1\n",
    "\n",
    "    # Counting the frequency of each frequency count\n",
    "    count_count = {}\n",
    "    for count in char_count.values():\n",
    "        count_count[count] = count_count.get(count, 0) + 1\n",
    "\n",
    "    # If all characters appear the same number of times, it is valid\n",
    "    if len(count_count) == 1:\n",
    "        return \"YES\"\n",
    "\n",
    "    # If there are exactly two different frequencies\n",
    "    if len(count_count) == 2:\n",
    "        # Check if removing one character can make all frequencies the same\n",
    "        max_count, min_count = max(count_count), min(count_count)\n",
    "        if (count_count[max_count] == 1 and max_count - min_count == 1) or (count_count[min_count] == 1 and min_count == 1):\n",
    "            return \"YES\"\n",
    "\n",
    "    return \"NO\"\n",
    "\n",
    "\n",
    "# Test cases\n",
    "test_cases = [\n",
    "    (\"abc\"),\n",
    "    (\"abcc\"),\n",
    "    (\"aabbccc\"),\n",
    "    (\"aabbcccd\"),\n",
    "]\n",
    "\n",
    "for string in test_cases:\n",
    "    result = is_valid(string)\n",
    "    print(f\"Input: {string}\")\n",
    "    print(f\"Output: {result}\")\n",
    "    print(\"-\" * 20)\n"
   ]
  },
  {
   "cell_type": "code",
   "execution_count": null,
   "metadata": {},
   "outputs": [],
   "source": []
  },
  {
   "cell_type": "code",
   "execution_count": null,
   "metadata": {},
   "outputs": [],
   "source": []
  },
  {
   "cell_type": "markdown",
   "metadata": {},
   "source": [
    "Question . 3 -- Write a program, which would download the data from the provided link, and then read the data and convert\n",
    "that into properly structured data and return it in Excel format.\n",
    "Note - Write comments wherever necessary explaining the code written.\n",
    "\n",
    "Link - https://raw.githubusercontent.com/Biuni/PokemonGO-Pokedex/master/pokedex.json"
   ]
  },
  {
   "cell_type": "code",
   "execution_count": 13,
   "metadata": {},
   "outputs": [
    {
     "name": "stdout",
     "output_type": "stream",
     "text": [
      "Data downloaded and converted to Excel file.\n",
      "                                             pokemon\n",
      "0  {'id': 1, 'num': '001', 'name': 'Bulbasaur', '...\n",
      "1  {'id': 2, 'num': '002', 'name': 'Ivysaur', 'im...\n",
      "2  {'id': 3, 'num': '003', 'name': 'Venusaur', 'i...\n",
      "3  {'id': 4, 'num': '004', 'name': 'Charmander', ...\n",
      "4  {'id': 5, 'num': '005', 'name': 'Charmeleon', ...\n"
     ]
    }
   ],
   "source": [
    "import requests\n",
    "import io\n",
    "import pandas as pd\n",
    "\n",
    "# Get the data from the link.\n",
    "url = \"https://raw.githubusercontent.com/Biuni/PokemonGO-Pokedex/master/pokedex.json\"\n",
    "response = requests.get(url)\n",
    "\n",
    "# Read the data into a Pandas DataFrame.\n",
    "df = pd.read_json(io.BytesIO(response.content))\n",
    "\n",
    "# Convert the DataFrame to an Excel file.\n",
    "df.to_excel(\"Pokemon.xlsx\")\n",
    "\n",
    "# Printing a message to indicate that the data has been downloaded and converted.\n",
    "print(\"Data downloaded and converted to Excel file.\")\n",
    "print(df.head())\n"
   ]
  },
  {
   "cell_type": "code",
   "execution_count": null,
   "metadata": {},
   "outputs": [],
   "source": []
  },
  {
   "cell_type": "code",
   "execution_count": null,
   "metadata": {},
   "outputs": [],
   "source": []
  },
  {
   "cell_type": "markdown",
   "metadata": {},
   "source": [
    "Question 4 -\n",
    "Write a program to download the data from the link given below and then read the data and convert the into\n",
    "the proper structure and return it as a CSV file.\n",
    "Link - https://data.nasa.gov/resource/y77d-th95.json\n",
    "Note - Write code comments wherever needed for code understanding."
   ]
  },
  {
   "cell_type": "code",
   "execution_count": 12,
   "metadata": {},
   "outputs": [
    {
     "name": "stdout",
     "output_type": "stream",
     "text": [
      "Data successfully downloaded and converted to CSV!\n",
      "       name   id nametype     recclass    mass  fall                     year   \n",
      "0    Aachen    1    Valid           L5      21  Fell  1880-01-01T00:00:00.000  \\\n",
      "1    Aarhus    2    Valid           H6     720  Fell  1951-01-01T00:00:00.000   \n",
      "2      Abee    6    Valid          EH4  107000  Fell  1952-01-01T00:00:00.000   \n",
      "3  Acapulco   10    Valid  Acapulcoite    1914  Fell  1976-01-01T00:00:00.000   \n",
      "4   Achiras  370    Valid           L6     780  Fell  1902-01-01T00:00:00.000   \n",
      "\n",
      "       reclat      reclong                                        geolocation   \n",
      "0   50.775000     6.083330  {'type': 'Point', 'coordinates': [6.08333, 50....  \\\n",
      "1   56.183330    10.233330  {'type': 'Point', 'coordinates': [10.23333, 56...   \n",
      "2   54.216670  -113.000000  {'type': 'Point', 'coordinates': [-113, 54.216...   \n",
      "3   16.883330   -99.900000  {'type': 'Point', 'coordinates': [-99.9, 16.88...   \n",
      "4  -33.166670   -64.950000  {'type': 'Point', 'coordinates': [-64.95, -33....   \n",
      "\n",
      "  :@computed_region_cbhk_fwbd :@computed_region_nnqa_25f4  \n",
      "0                         NaN                         NaN  \n",
      "1                         NaN                         NaN  \n",
      "2                         NaN                         NaN  \n",
      "3                         NaN                         NaN  \n",
      "4                         NaN                         NaN  \n"
     ]
    }
   ],
   "source": [
    "import pandas as pd\n",
    "import requests\n",
    "\n",
    "    \n",
    "url = \"https://data.nasa.gov/resource/y77d-th95.json\"  \n",
    "output_file = \"nasa.csv\"  \n",
    "\n",
    "def download_and_convert_to_csv(url, output_file):\n",
    "    # Downloading the data from the provided link\n",
    "    response = requests.get(url)\n",
    "    data = response.json()\n",
    "\n",
    "    # Here the data is in a list of dictionaries format\n",
    "\n",
    "    # Converting the list of dictionaries to a DataFrame\n",
    "    df = pd.DataFrame(data)\n",
    "    \n",
    "\n",
    "    # Converting the DataFrame to a CSV file\n",
    "    df.to_csv(output_file, index=False)\n",
    "\n",
    "    print(\"Data successfully downloaded and converted to CSV!\")\n",
    "    print(df.head())\n",
    "\n",
    "download_and_convert_to_csv(url, output_file)\n"
   ]
  },
  {
   "cell_type": "code",
   "execution_count": null,
   "metadata": {},
   "outputs": [],
   "source": []
  },
  {
   "cell_type": "code",
   "execution_count": null,
   "metadata": {},
   "outputs": [],
   "source": []
  },
  {
   "cell_type": "markdown",
   "metadata": {},
   "source": [
    "Question 5 -- Write a program to download the data from the given API link and then extract the following data with\n",
    "proper formatting\n",
    "\n",
    "Link - http://api.tvmaze.com/singlesearch/shows?q=westworld&embed=episodes\n",
    "Note - Write proper code comments wherever needed for the code understanding"
   ]
  },
  {
   "cell_type": "code",
   "execution_count": 26,
   "metadata": {},
   "outputs": [
    {
     "name": "stdout",
     "output_type": "stream",
     "text": [
      "Episode ID: 869671\n",
      "Episode URL: https://www.tvmaze.com/episodes/869671/westworld-1x01-the-original\n",
      "Episode Name: The Original\n",
      "Season Number: 1\n",
      "Episode Number: 1\n",
      "Episode Type: regular\n",
      "Airdate: 2016-10-02\n",
      "Airtime: 21:00\n",
      "Runtime: 68\n",
      "Average Rating: 8\n",
      "Summary: A woman named Dolores is a free spirit in the Old West... and unaware that she's actually an android, programmed to entertain rich guests seeking to act out their fantasies in an idealized vision of the 1880s. However, the people in charge soon realize that their androids are acting in ways that they didn't anticipate.\n",
      "Medium Image Link: https://static.tvmaze.com/uploads/images/medium_landscape/78/195475.jpg\n",
      "Original Image Link: https://static.tvmaze.com/uploads/images/original_untouched/78/195475.jpg\n"
     ]
    }
   ],
   "source": [
    "import requests\n",
    "import json\n",
    "import re\n",
    "\n",
    "\n",
    "api_link = \"http://api.tvmaze.com/singlesearch/shows?q=westworld&embed=episodes\" \n",
    "\n",
    "def data(api_link):\n",
    "    # Download the data from the API link\n",
    "    response = requests.get(api_link)\n",
    "    data = response.json()\n",
    "\n",
    "    # Extract a single episode from the episodes data\n",
    "    episode = data.get(\"_embedded\", {}).get(\"episodes\", [])[0]  # Extracting the first episode\n",
    "\n",
    "    # Extract the desired attributes for the episode\n",
    "    episode_id = episode.get(\"id\")\n",
    "    episode_url = episode.get(\"url\")\n",
    "    episode_name = episode.get(\"name\")\n",
    "    season_number = episode.get(\"season\")\n",
    "    episode_number = episode.get(\"number\")\n",
    "    episode_type = episode.get(\"type\")\n",
    "    airdate = episode.get(\"airdate\")\n",
    "    airtime = episode.get(\"airtime\")\n",
    "    runtime = episode.get(\"runtime\")\n",
    "    average_rating = episode.get(\"rating\", {}).get(\"average\")\n",
    "    summary = re.sub('<[^<]+?>', '', episode.get(\"summary\")) if episode.get(\"summary\") else \"\"\n",
    "    medium_image_link = episode.get(\"image\", {}).get(\"medium\")\n",
    "    original_image_link = episode.get(\"image\", {}).get(\"original\")\n",
    "\n",
    "    # Print the extracted attributes for the episode\n",
    "    print(\"Episode ID:\", episode_id)\n",
    "    print(\"Episode URL:\", episode_url)\n",
    "    print(\"Episode Name:\", episode_name)\n",
    "    print(\"Season Number:\", season_number)\n",
    "    print(\"Episode Number:\", episode_number)\n",
    "    print(\"Episode Type:\", episode_type)\n",
    "    print(\"Airdate:\", airdate)\n",
    "    print(\"Airtime:\", airtime)\n",
    "    print(\"Runtime:\", runtime)\n",
    "    print(\"Average Rating:\", average_rating)\n",
    "    print(\"Summary:\", summary)\n",
    "    print(\"Medium Image Link:\", medium_image_link)\n",
    "    print(\"Original Image Link:\", original_image_link)\n",
    "\n",
    "data(api_link)\n"
   ]
  },
  {
   "cell_type": "code",
   "execution_count": null,
   "metadata": {},
   "outputs": [],
   "source": []
  },
  {
   "cell_type": "code",
   "execution_count": null,
   "metadata": {},
   "outputs": [],
   "source": []
  },
  {
   "cell_type": "markdown",
   "metadata": {},
   "source": [
    "Question 6 -\n",
    "\n",
    "Using the data from Question 3, write code to analyze the data and answer the following questions Note 1.\n",
    "Draw plots to demonstrate the analysis for the following questions for better visualizations.\n",
    "2. Write code comments wherever required for code understanding\n",
    "\n",
    "Insights to be drawn -\n",
    "\n",
    "● Get all Pokemons whose spawn rate is less than 5%\n",
    "\n",
    "● Get all Pokemons that have less than 4 weaknesses\n",
    "\n",
    "● Get all Pokemons that have no multipliers at all\n",
    "\n",
    "● Get all Pokemons that do not have more than 2 evolutions\n",
    "\n",
    "● Get all Pokemons whose spawn time is less than 300 seconds.\n",
    "Note - spawn time format is \"05:32”, so assume “minute: second” format and perform the analysis.\n",
    "\n",
    "● Get all Pokemon who have more than two types of capabilities"
   ]
  },
  {
   "cell_type": "code",
   "execution_count": 251,
   "metadata": {},
   "outputs": [
    {
     "data": {
      "text/html": [
       "<div>\n",
       "<style scoped>\n",
       "    .dataframe tbody tr th:only-of-type {\n",
       "        vertical-align: middle;\n",
       "    }\n",
       "\n",
       "    .dataframe tbody tr th {\n",
       "        vertical-align: top;\n",
       "    }\n",
       "\n",
       "    .dataframe thead th {\n",
       "        text-align: right;\n",
       "    }\n",
       "</style>\n",
       "<table border=\"1\" class=\"dataframe\">\n",
       "  <thead>\n",
       "    <tr style=\"text-align: right;\">\n",
       "      <th></th>\n",
       "      <th>id</th>\n",
       "      <th>num</th>\n",
       "      <th>name</th>\n",
       "      <th>img</th>\n",
       "      <th>type</th>\n",
       "      <th>height</th>\n",
       "      <th>weight</th>\n",
       "      <th>candy</th>\n",
       "      <th>candy_count</th>\n",
       "      <th>egg</th>\n",
       "      <th>spawn_chance</th>\n",
       "      <th>avg_spawns</th>\n",
       "      <th>spawn_time</th>\n",
       "      <th>multipliers</th>\n",
       "      <th>weaknesses</th>\n",
       "      <th>next_evolution</th>\n",
       "      <th>prev_evolution</th>\n",
       "    </tr>\n",
       "  </thead>\n",
       "  <tbody>\n",
       "    <tr>\n",
       "      <th>0</th>\n",
       "      <td>1</td>\n",
       "      <td>001</td>\n",
       "      <td>Bulbasaur</td>\n",
       "      <td>http://www.serebii.net/pokemongo/pokemon/001.png</td>\n",
       "      <td>[Grass, Poison]</td>\n",
       "      <td>0.71 m</td>\n",
       "      <td>6.9 kg</td>\n",
       "      <td>Bulbasaur Candy</td>\n",
       "      <td>25.0</td>\n",
       "      <td>2 km</td>\n",
       "      <td>0.690</td>\n",
       "      <td>69.0</td>\n",
       "      <td>20:00</td>\n",
       "      <td>[1.58]</td>\n",
       "      <td>[Fire, Ice, Flying, Psychic]</td>\n",
       "      <td>[{'num': '002', 'name': 'Ivysaur'}, {'num': '0...</td>\n",
       "      <td>NaN</td>\n",
       "    </tr>\n",
       "    <tr>\n",
       "      <th>1</th>\n",
       "      <td>2</td>\n",
       "      <td>002</td>\n",
       "      <td>Ivysaur</td>\n",
       "      <td>http://www.serebii.net/pokemongo/pokemon/002.png</td>\n",
       "      <td>[Grass, Poison]</td>\n",
       "      <td>0.99 m</td>\n",
       "      <td>13.0 kg</td>\n",
       "      <td>Bulbasaur Candy</td>\n",
       "      <td>100.0</td>\n",
       "      <td>Not in Eggs</td>\n",
       "      <td>0.042</td>\n",
       "      <td>4.2</td>\n",
       "      <td>07:00</td>\n",
       "      <td>[1.2, 1.6]</td>\n",
       "      <td>[Fire, Ice, Flying, Psychic]</td>\n",
       "      <td>[{'num': '003', 'name': 'Venusaur'}]</td>\n",
       "      <td>[{'num': '001', 'name': 'Bulbasaur'}]</td>\n",
       "    </tr>\n",
       "    <tr>\n",
       "      <th>2</th>\n",
       "      <td>3</td>\n",
       "      <td>003</td>\n",
       "      <td>Venusaur</td>\n",
       "      <td>http://www.serebii.net/pokemongo/pokemon/003.png</td>\n",
       "      <td>[Grass, Poison]</td>\n",
       "      <td>2.01 m</td>\n",
       "      <td>100.0 kg</td>\n",
       "      <td>Bulbasaur Candy</td>\n",
       "      <td>NaN</td>\n",
       "      <td>Not in Eggs</td>\n",
       "      <td>0.017</td>\n",
       "      <td>1.7</td>\n",
       "      <td>11:30</td>\n",
       "      <td>None</td>\n",
       "      <td>[Fire, Ice, Flying, Psychic]</td>\n",
       "      <td>NaN</td>\n",
       "      <td>[{'num': '001', 'name': 'Bulbasaur'}, {'num': ...</td>\n",
       "    </tr>\n",
       "    <tr>\n",
       "      <th>3</th>\n",
       "      <td>4</td>\n",
       "      <td>004</td>\n",
       "      <td>Charmander</td>\n",
       "      <td>http://www.serebii.net/pokemongo/pokemon/004.png</td>\n",
       "      <td>[Fire]</td>\n",
       "      <td>0.61 m</td>\n",
       "      <td>8.5 kg</td>\n",
       "      <td>Charmander Candy</td>\n",
       "      <td>25.0</td>\n",
       "      <td>2 km</td>\n",
       "      <td>0.253</td>\n",
       "      <td>25.3</td>\n",
       "      <td>08:45</td>\n",
       "      <td>[1.65]</td>\n",
       "      <td>[Water, Ground, Rock]</td>\n",
       "      <td>[{'num': '005', 'name': 'Charmeleon'}, {'num':...</td>\n",
       "      <td>NaN</td>\n",
       "    </tr>\n",
       "    <tr>\n",
       "      <th>4</th>\n",
       "      <td>5</td>\n",
       "      <td>005</td>\n",
       "      <td>Charmeleon</td>\n",
       "      <td>http://www.serebii.net/pokemongo/pokemon/005.png</td>\n",
       "      <td>[Fire]</td>\n",
       "      <td>1.09 m</td>\n",
       "      <td>19.0 kg</td>\n",
       "      <td>Charmander Candy</td>\n",
       "      <td>100.0</td>\n",
       "      <td>Not in Eggs</td>\n",
       "      <td>0.012</td>\n",
       "      <td>1.2</td>\n",
       "      <td>19:00</td>\n",
       "      <td>[1.79]</td>\n",
       "      <td>[Water, Ground, Rock]</td>\n",
       "      <td>[{'num': '006', 'name': 'Charizard'}]</td>\n",
       "      <td>[{'num': '004', 'name': 'Charmander'}]</td>\n",
       "    </tr>\n",
       "  </tbody>\n",
       "</table>\n",
       "</div>"
      ],
      "text/plain": [
       "   id  num        name                                               img   \n",
       "0   1  001   Bulbasaur  http://www.serebii.net/pokemongo/pokemon/001.png  \\\n",
       "1   2  002     Ivysaur  http://www.serebii.net/pokemongo/pokemon/002.png   \n",
       "2   3  003    Venusaur  http://www.serebii.net/pokemongo/pokemon/003.png   \n",
       "3   4  004  Charmander  http://www.serebii.net/pokemongo/pokemon/004.png   \n",
       "4   5  005  Charmeleon  http://www.serebii.net/pokemongo/pokemon/005.png   \n",
       "\n",
       "              type  height    weight             candy  candy_count   \n",
       "0  [Grass, Poison]  0.71 m    6.9 kg   Bulbasaur Candy         25.0  \\\n",
       "1  [Grass, Poison]  0.99 m   13.0 kg   Bulbasaur Candy        100.0   \n",
       "2  [Grass, Poison]  2.01 m  100.0 kg   Bulbasaur Candy          NaN   \n",
       "3           [Fire]  0.61 m    8.5 kg  Charmander Candy         25.0   \n",
       "4           [Fire]  1.09 m   19.0 kg  Charmander Candy        100.0   \n",
       "\n",
       "           egg  spawn_chance  avg_spawns spawn_time multipliers   \n",
       "0         2 km         0.690        69.0      20:00      [1.58]  \\\n",
       "1  Not in Eggs         0.042         4.2      07:00  [1.2, 1.6]   \n",
       "2  Not in Eggs         0.017         1.7      11:30        None   \n",
       "3         2 km         0.253        25.3      08:45      [1.65]   \n",
       "4  Not in Eggs         0.012         1.2      19:00      [1.79]   \n",
       "\n",
       "                     weaknesses   \n",
       "0  [Fire, Ice, Flying, Psychic]  \\\n",
       "1  [Fire, Ice, Flying, Psychic]   \n",
       "2  [Fire, Ice, Flying, Psychic]   \n",
       "3         [Water, Ground, Rock]   \n",
       "4         [Water, Ground, Rock]   \n",
       "\n",
       "                                      next_evolution   \n",
       "0  [{'num': '002', 'name': 'Ivysaur'}, {'num': '0...  \\\n",
       "1               [{'num': '003', 'name': 'Venusaur'}]   \n",
       "2                                                NaN   \n",
       "3  [{'num': '005', 'name': 'Charmeleon'}, {'num':...   \n",
       "4              [{'num': '006', 'name': 'Charizard'}]   \n",
       "\n",
       "                                      prev_evolution  \n",
       "0                                                NaN  \n",
       "1              [{'num': '001', 'name': 'Bulbasaur'}]  \n",
       "2  [{'num': '001', 'name': 'Bulbasaur'}, {'num': ...  \n",
       "3                                                NaN  \n",
       "4             [{'num': '004', 'name': 'Charmander'}]  "
      ]
     },
     "execution_count": 251,
     "metadata": {},
     "output_type": "execute_result"
    }
   ],
   "source": [
    "# URL of the data of question 3\n",
    "url = \"https://raw.githubusercontent.com/Biuni/PokemonGO-Pokedex/master/pokedex.json\"\n",
    "\n",
    "# Downloading the JSON data\n",
    "response = requests.get(url)\n",
    "data = response.json()\n",
    "\n",
    "# Creating a DataFrame from the JSON data\n",
    "df = pd.DataFrame(data[\"pokemon\"])\n",
    "df.head()"
   ]
  },
  {
   "cell_type": "code",
   "execution_count": 252,
   "metadata": {},
   "outputs": [
    {
     "name": "stdout",
     "output_type": "stream",
     "text": [
      "There are %Pokemons with spawn rate less than 5% \n",
      "\n",
      "['Ivysaur', 'Venusaur', 'Charmeleon', 'Charizard', 'Wartortle', 'Blastoise', 'Butterfree', 'Raichu', 'Sandslash', 'Nidoqueen', 'Nidoking', 'Clefable', 'Ninetales', 'Wigglytuff', 'Vileplume', 'Dugtrio', 'Persian', 'Primeape', 'Arcanine', 'Poliwrath', 'Kadabra', 'Alakazam', 'Machoke', 'Machamp', 'Victreebel', 'Golem', 'Rapidash', 'Slowbro', 'Magneton', \"Farfetch'd\", 'Dewgong', 'Muk', 'Cloyster', 'Gengar', 'Electrode', 'Exeggutor', 'Marowak', 'Hitmonlee', 'Hitmonchan', 'Lickitung', 'Weezing', 'Rhydon', 'Chansey', 'Kangaskhan', 'Seadra', 'Starmie', 'Mr. Mime', 'Gyarados', 'Lapras', 'Ditto', 'Vaporeon', 'Jolteon', 'Flareon', 'Porygon', 'Omastar', 'Kabutops', 'Aerodactyl', 'Snorlax', 'Articuno', 'Zapdos', 'Moltres', 'Dragonair', 'Dragonite', 'Mewtwo', 'Mew']\n"
     ]
    },
    {
     "data": {
      "image/png": "[encoded data removed]",
      "text/plain": [
       "<Figure size 1800x1080 with 1 Axes>"
      ]
     },
     "metadata": {
      "needs_background": "light"
     },
     "output_type": "display_data"
    }
   ],
   "source": [
    "# Get all Pokemons whose spawn rate is less than 5%\n",
    "less_spawn_rate = df[df['spawn_chance'] < 0.05]\n",
    "print(\"There are %Pokemons with spawn rate less than 5% \\n\")\n",
    "print(less_spawn_rate['name'].tolist())\n",
    "\n",
    "plt.figure(figsize=(25, 15))\n",
    "plt.bar(less_spawn_rate['name'], less_spawn_rate['spawn_chance'])\n",
    "plt.xlabel('Pokemons',fontsize = 30)\n",
    "plt.ylabel('Spawn Rate (%)',fontsize = 30)\n",
    "plt.title('Pokemons with Spawn Rate Less than 5%', fontsize = 35)\n",
    "plt.xticks(rotation=60,fontsize = 12)\n",
    "plt.yticks(fontsize = 20)\n",
    "plt.show()"
   ]
  },
  {
   "cell_type": "code",
   "execution_count": 253,
   "metadata": {},
   "outputs": [
    {
     "name": "stdout",
     "output_type": "stream",
     "text": [
      "There are 102 out of 151 Pokemons that have less than 4 weaknesses \n",
      "\n",
      "['Charmander', 'Charmeleon', 'Charizard', 'Squirtle', 'Wartortle', 'Blastoise', 'Caterpie', 'Metapod', 'Pidgey', 'Pidgeotto', 'Pidgeot', 'Rattata', 'Raticate', 'Spearow', 'Fearow', 'Ekans', 'Arbok', 'Pikachu', 'Raichu', 'Sandshrew', 'Sandslash', 'Nidoran ♀ (Female)', 'Nidorina', 'Nidoran ♂ (Male)', 'Nidorino', 'Clefairy', 'Clefable', 'Vulpix', 'Ninetales', 'Jigglypuff', 'Wigglytuff', 'Diglett', 'Dugtrio', 'Meowth', 'Persian', 'Psyduck', 'Golduck', 'Mankey', 'Primeape', 'Growlithe', 'Arcanine', 'Poliwag', 'Poliwhirl', 'Abra', 'Kadabra', 'Alakazam', 'Machop', 'Machoke', 'Machamp', 'Tentacool', 'Tentacruel', 'Ponyta', 'Rapidash', 'Magnemite', 'Magneton', \"Farfetch'd\", 'Doduo', 'Dodrio', 'Seel', 'Grimer', 'Muk', 'Shellder', 'Drowzee', 'Hypno', 'Krabby', 'Kingler', 'Voltorb', 'Electrode', 'Cubone', 'Marowak', 'Hitmonlee', 'Hitmonchan', 'Lickitung', 'Koffing', 'Weezing', 'Chansey', 'Kangaskhan', 'Horsea', 'Seadra', 'Goldeen', 'Seaking', 'Staryu', 'Mr. Mime', 'Electabuzz', 'Magmar', 'Pinsir', 'Tauros', 'Magikarp', 'Gyarados', 'Ditto', 'Eevee', 'Vaporeon', 'Jolteon', 'Flareon', 'Porygon', 'Snorlax', 'Zapdos', 'Moltres', 'Dratini', 'Dragonair', 'Mewtwo', 'Mew']\n"
     ]
    },
    {
     "data": {
      "image/png": "[encoded data removed]",
      "text/plain": [
       "<Figure size 720x432 with 1 Axes>"
      ]
     },
     "metadata": {},
     "output_type": "display_data"
    }
   ],
   "source": [
    "# Get all Pokemons that have less than 4 weaknesses\n",
    "weakness = df[df['weaknesses'].apply(len) < 4]\n",
    "print(\"There are %s out of %s Pokemons that have less than 4 weaknesses \\n\" %(len(weakness),len(df)))\n",
    "print(weakness['name'].tolist())\n",
    "\n",
    "total = len(df)\n",
    "weakness_4 = len(weakness)\n",
    "labels = ['Total Pokemons', 'Pokemons with Less than 4 Weaknesses']\n",
    "sizes = [total-weakness_4,total]\n",
    "plt.figure(figsize=(10, 6))\n",
    "plt.pie(sizes, labels=labels, autopct='%1.1f%%')\n",
    "plt.title('Total Pokemons vs. Pokemons with Less than 4 Weaknesses',fontsize=15)\n",
    "plt.show()"
   ]
  },
  {
   "cell_type": "code",
   "execution_count": 254,
   "metadata": {},
   "outputs": [
    {
     "name": "stdout",
     "output_type": "stream",
     "text": [
      "There are 81 out of 151 Pokemons with no multipliers \n",
      "\n",
      "['Venusaur', 'Charizard', 'Blastoise', 'Butterfree', 'Beedrill', 'Pidgeot', 'Raticate', 'Fearow', 'Arbok', 'Raichu', 'Sandslash', 'Nidoqueen', 'Nidoking', 'Clefable', 'Ninetales', 'Wigglytuff', 'Golbat', 'Vileplume', 'Parasect', 'Venomoth', 'Dugtrio', 'Persian', 'Golduck', 'Primeape', 'Arcanine', 'Poliwrath', 'Alakazam', 'Machamp', 'Victreebel', 'Tentacruel', 'Golem', 'Rapidash', 'Slowbro', 'Magneton', \"Farfetch'd\", 'Dodrio', 'Dewgong', 'Muk', 'Cloyster', 'Gengar', 'Onix', 'Hypno', 'Kingler', 'Electrode', 'Exeggutor', 'Marowak', 'Hitmonlee', 'Hitmonchan', 'Lickitung', 'Weezing', 'Rhydon', 'Chansey', 'Tangela', 'Kangaskhan', 'Seadra', 'Seaking', 'Starmie', 'Mr. Mime', 'Scyther', 'Jynx', 'Electabuzz', 'Magmar', 'Pinsir', 'Tauros', 'Gyarados', 'Lapras', 'Ditto', 'Vaporeon', 'Jolteon', 'Flareon', 'Porygon', 'Omastar', 'Kabutops', 'Aerodactyl', 'Snorlax', 'Articuno', 'Zapdos', 'Moltres', 'Dragonite', 'Mewtwo', 'Mew']\n"
     ]
    },
    {
     "data": {
      "image/png": "[encoded data removed]",
      "text/plain": [
       "<Figure size 720x432 with 1 Axes>"
      ]
     },
     "metadata": {},
     "output_type": "display_data"
    }
   ],
   "source": [
    "#Get all Pokemons that have no multipliers at all\n",
    "no_multipliers = df[df['multipliers'].apply(lambda x: x is None or len(x) == 0)]\n",
    "\n",
    "# Print the Pokemons with no multipliers\n",
    "print(\"There are %s out of %s Pokemons with no multipliers \\n\" %(len(no_multipliers),len(df)))\n",
    "print(no_multipliers['name'].to_list())\n",
    "\n",
    "total = len(df)\n",
    "no_multipliers_len = len(no_multipliers)\n",
    "labels = ['Total Pokemons', 'Pokemons with no multipliers']\n",
    "sizes = [total-no_multipliers_len,total]\n",
    "plt.figure(figsize=(10, 6))\n",
    "plt.pie(sizes, labels=labels, autopct='%1.1f%%')\n",
    "plt.title('Total Pokemons vs. Pokemons with no multipliers',fontsize=15)\n",
    "plt.show()"
   ]
  },
  {
   "cell_type": "code",
   "execution_count": 255,
   "metadata": {},
   "outputs": [
    {
     "name": "stdout",
     "output_type": "stream",
     "text": [
      "There are total 75 out of 151 Pokemons with spawn time less than 300 seconds \n",
      "\n",
      "['Squirtle', 'Blastoise', 'Metapod', 'Weedle', 'Kakuna', 'Beedrill', 'Pidgey', 'Pidgeotto', 'Pidgeot', 'Rattata', 'Raticate', 'Fearow', 'Arbok', 'Pikachu', 'Sandshrew', 'Nidoran ♀ (Female)', 'Nidoran ♂ (Male)', 'Clefairy', 'Clefable', 'Ninetales', 'Golbat', 'Oddish', 'Paras', 'Parasect', 'Venonat', 'Diglett', 'Meowth', 'Persian', 'Psyduck', 'Growlithe', 'Arcanine', 'Poliwag', 'Poliwrath', 'Abra', 'Machop', 'Machamp', 'Bellsprout', 'Tentacool', 'Graveler', 'Ponyta', 'Rapidash', 'Slowbro', 'Magnemite', \"Farfetch'd\", 'Dodrio', 'Muk', 'Cloyster', 'Gastly', 'Haunter', 'Gengar', 'Onix', 'Drowzee', 'Hypno', 'Krabby', 'Kingler', 'Voltorb', 'Electrode', 'Cubone', 'Marowak', 'Hitmonlee', 'Lickitung', 'Rhyhorn', 'Chansey', 'Kangaskhan', 'Horsea', 'Seadra', 'Goldeen', 'Mr. Mime', 'Electabuzz', 'Pinsir', 'Tauros', 'Gyarados', 'Jolteon', 'Porygon', 'Kabuto']\n"
     ]
    },
    {
     "data": {
      "image/png": "[encoded data removed]",
      "text/plain": [
       "<Figure size 720x432 with 1 Axes>"
      ]
     },
     "metadata": {},
     "output_type": "display_data"
    }
   ],
   "source": [
    "# Get all Pokemons whose spawn time is less than 300 seconds\n",
    "df['spawn_time'] = pd.to_datetime(df['spawn_time'], format='%M:%S',errors = 'coerce')\n",
    "\n",
    "# Filtering Pokemons whose spawn time is less than 300 seconds\n",
    "less_spawn_time = df[df['spawn_time'] < pd.to_datetime('00:05:00', format='%H:%M:%S')]\n",
    "\n",
    "# Printing the names and spawn time of Pokemons with spawn time less than 300 seconds\n",
    "print(\"There are total %s out of %s Pokemons with spawn time less than 300 seconds \\n\" %(len(less_spawn_time),len(df)))\n",
    "print(less_spawn_time['name'].to_list())\n",
    "\n",
    "total = len(df)\n",
    "less_spawn_time_len = len(less_spawn_time)\n",
    "labels = ['Total Pokemons', 'Pokemons with spawn time < 300 seconds']\n",
    "sizes = [total-less_spawn_time_len,total]\n",
    "plt.figure(figsize=(10, 6))\n",
    "plt.pie(sizes, labels=labels, autopct='%1.1f%%')\n",
    "plt.title('Total Pokemons vs. Pokemons with spawn time < 300 seconds',fontsize=15)\n",
    "plt.show()"
   ]
  },
  {
   "cell_type": "code",
   "execution_count": 256,
   "metadata": {},
   "outputs": [
    {
     "name": "stdout",
     "output_type": "stream",
     "text": [
      "Pokemons with more than two types:\n",
      "[]\n",
      "\n",
      " There is NO Pokemon having more than Two capabilities\n"
     ]
    }
   ],
   "source": [
    "# Get all Pokemon who have more than two types of capabilities\n",
    "more_two_type = df[df['type'].apply(len) > 2]\n",
    "print(\"Pokemons with more than two types:\")\n",
    "print(more_two_type['name'].to_list())\n",
    "print(\"\\n There is NO Pokemon having more than Two capabilities\")"
   ]
  },
  {
   "cell_type": "code",
   "execution_count": null,
   "metadata": {},
   "outputs": [],
   "source": []
  },
  {
   "cell_type": "code",
   "execution_count": null,
   "metadata": {},
   "outputs": [],
   "source": []
  },
  {
   "cell_type": "markdown",
   "metadata": {},
   "source": [
    "Question 7 -\n",
    "\n",
    "Using the data from Question 4, write code to analyze the data and answer the following questions Note -\n",
    "\n",
    "1. Draw plots to demonstrate the analysis for the following questions for better visualizations\n",
    "\n",
    "2. Write code comments wherever required for code understanding\n",
    "\n",
    "Insights to be drawn -\n",
    "\n",
    "● Get all the Earth meteorites that fell before the year 2000\n",
    "\n",
    "● Get all the earth meteorites co-ordinates who fell before the year 1970\n",
    "\n",
    "● Assuming that the mass of the earth meteorites was in kg, get all those whose mass was more\n",
    "than 10000kg"
   ]
  },
  {
   "cell_type": "code",
   "execution_count": 259,
   "metadata": {},
   "outputs": [
    {
     "data": {
      "text/html": [
       "<div>\n",
       "<style scoped>\n",
       "    .dataframe tbody tr th:only-of-type {\n",
       "        vertical-align: middle;\n",
       "    }\n",
       "\n",
       "    .dataframe tbody tr th {\n",
       "        vertical-align: top;\n",
       "    }\n",
       "\n",
       "    .dataframe thead th {\n",
       "        text-align: right;\n",
       "    }\n",
       "</style>\n",
       "<table border=\"1\" class=\"dataframe\">\n",
       "  <thead>\n",
       "    <tr style=\"text-align: right;\">\n",
       "      <th></th>\n",
       "      <th>name</th>\n",
       "      <th>id</th>\n",
       "      <th>nametype</th>\n",
       "      <th>recclass</th>\n",
       "      <th>mass</th>\n",
       "      <th>fall</th>\n",
       "      <th>year</th>\n",
       "      <th>reclat</th>\n",
       "      <th>reclong</th>\n",
       "      <th>geolocation</th>\n",
       "      <th>:@computed_region_cbhk_fwbd</th>\n",
       "      <th>:@computed_region_nnqa_25f4</th>\n",
       "    </tr>\n",
       "  </thead>\n",
       "  <tbody>\n",
       "    <tr>\n",
       "      <th>0</th>\n",
       "      <td>Aachen</td>\n",
       "      <td>1</td>\n",
       "      <td>Valid</td>\n",
       "      <td>L5</td>\n",
       "      <td>21.0</td>\n",
       "      <td>Fell</td>\n",
       "      <td>1880-01-01T00:00:00.000</td>\n",
       "      <td>50.77500</td>\n",
       "      <td>6.08333</td>\n",
       "      <td>{'type': 'Point', 'coordinates': [6.08333, 50....</td>\n",
       "      <td>NaN</td>\n",
       "      <td>NaN</td>\n",
       "    </tr>\n",
       "    <tr>\n",
       "      <th>1</th>\n",
       "      <td>Aarhus</td>\n",
       "      <td>2</td>\n",
       "      <td>Valid</td>\n",
       "      <td>H6</td>\n",
       "      <td>720.0</td>\n",
       "      <td>Fell</td>\n",
       "      <td>1951-01-01T00:00:00.000</td>\n",
       "      <td>56.18333</td>\n",
       "      <td>10.23333</td>\n",
       "      <td>{'type': 'Point', 'coordinates': [10.23333, 56...</td>\n",
       "      <td>NaN</td>\n",
       "      <td>NaN</td>\n",
       "    </tr>\n",
       "    <tr>\n",
       "      <th>2</th>\n",
       "      <td>Abee</td>\n",
       "      <td>6</td>\n",
       "      <td>Valid</td>\n",
       "      <td>EH4</td>\n",
       "      <td>107000.0</td>\n",
       "      <td>Fell</td>\n",
       "      <td>1952-01-01T00:00:00.000</td>\n",
       "      <td>54.21667</td>\n",
       "      <td>-113.00000</td>\n",
       "      <td>{'type': 'Point', 'coordinates': [-113, 54.216...</td>\n",
       "      <td>NaN</td>\n",
       "      <td>NaN</td>\n",
       "    </tr>\n",
       "    <tr>\n",
       "      <th>3</th>\n",
       "      <td>Acapulco</td>\n",
       "      <td>10</td>\n",
       "      <td>Valid</td>\n",
       "      <td>Acapulcoite</td>\n",
       "      <td>1914.0</td>\n",
       "      <td>Fell</td>\n",
       "      <td>1976-01-01T00:00:00.000</td>\n",
       "      <td>16.88333</td>\n",
       "      <td>-99.90000</td>\n",
       "      <td>{'type': 'Point', 'coordinates': [-99.9, 16.88...</td>\n",
       "      <td>NaN</td>\n",
       "      <td>NaN</td>\n",
       "    </tr>\n",
       "    <tr>\n",
       "      <th>4</th>\n",
       "      <td>Achiras</td>\n",
       "      <td>370</td>\n",
       "      <td>Valid</td>\n",
       "      <td>L6</td>\n",
       "      <td>780.0</td>\n",
       "      <td>Fell</td>\n",
       "      <td>1902-01-01T00:00:00.000</td>\n",
       "      <td>-33.16667</td>\n",
       "      <td>-64.95000</td>\n",
       "      <td>{'type': 'Point', 'coordinates': [-64.95, -33....</td>\n",
       "      <td>NaN</td>\n",
       "      <td>NaN</td>\n",
       "    </tr>\n",
       "  </tbody>\n",
       "</table>\n",
       "</div>"
      ],
      "text/plain": [
       "       name   id nametype     recclass      mass  fall   \n",
       "0    Aachen    1    Valid           L5      21.0  Fell  \\\n",
       "1    Aarhus    2    Valid           H6     720.0  Fell   \n",
       "2      Abee    6    Valid          EH4  107000.0  Fell   \n",
       "3  Acapulco   10    Valid  Acapulcoite    1914.0  Fell   \n",
       "4   Achiras  370    Valid           L6     780.0  Fell   \n",
       "\n",
       "                      year    reclat    reclong   \n",
       "0  1880-01-01T00:00:00.000  50.77500    6.08333  \\\n",
       "1  1951-01-01T00:00:00.000  56.18333   10.23333   \n",
       "2  1952-01-01T00:00:00.000  54.21667 -113.00000   \n",
       "3  1976-01-01T00:00:00.000  16.88333  -99.90000   \n",
       "4  1902-01-01T00:00:00.000 -33.16667  -64.95000   \n",
       "\n",
       "                                         geolocation   \n",
       "0  {'type': 'Point', 'coordinates': [6.08333, 50....  \\\n",
       "1  {'type': 'Point', 'coordinates': [10.23333, 56...   \n",
       "2  {'type': 'Point', 'coordinates': [-113, 54.216...   \n",
       "3  {'type': 'Point', 'coordinates': [-99.9, 16.88...   \n",
       "4  {'type': 'Point', 'coordinates': [-64.95, -33....   \n",
       "\n",
       "   :@computed_region_cbhk_fwbd  :@computed_region_nnqa_25f4  \n",
       "0                          NaN                          NaN  \n",
       "1                          NaN                          NaN  \n",
       "2                          NaN                          NaN  \n",
       "3                          NaN                          NaN  \n",
       "4                          NaN                          NaN  "
      ]
     },
     "execution_count": 259,
     "metadata": {},
     "output_type": "execute_result"
    }
   ],
   "source": [
    "df = pd.read_csv(\"nasa.csv\")\n",
    "df.head()"
   ]
  },
  {
   "cell_type": "code",
   "execution_count": 260,
   "metadata": {},
   "outputs": [
    {
     "name": "stdout",
     "output_type": "stream",
     "text": [
      "There are total 929 out of 1000 Earth meteorites that fell before the year 2000\n",
      "\n",
      "['Aachen', 'Aarhus', 'Abee', 'Acapulco', 'Achiras', 'Adhi Kot', 'Adzhi-Bogdo (stone)', 'Agen', 'Aguada', 'Aguila Blanca', 'Aioun el Atrouss', 'Aïr', 'Aire-sur-la-Lys', 'Akaba', 'Akbarpur', 'Akwanga', 'Akyumak', 'Al Rais', 'Alais', 'Albareto', 'Alberta', 'Aldsworth', 'Aleppo', 'Alessandria', 'Alexandrovsky', 'Alfianello', 'Allegan', 'Allende', \"Alta'ameem\", 'Ambapur Nagla', 'Andhara', 'Andover', 'Andreevka', 'Andura', 'Angers', 'Angra dos Reis (stone)', 'Ankober', 'Anlong', 'Aomori', 'Appley Bridge', 'Apt', 'Arbol Solo', 'Archie', 'Arroyo Aguiar', 'Asco', 'Ashdon', 'Assisi', 'Atarra', 'Atemajac', 'Athens', 'Atoka', 'Aubres', 'Aumale', 'Aumieres', 'Ausson', 'Avanhandava', 'Avce', 'Avilez', 'Awere', 'Aztec', 'Bachmut', 'Bahjoi', 'Bald Mountain', 'Baldwyn', 'Bali', 'Ban Rong Du', 'Bandong', 'Bansur', 'Banswal', 'Banten', 'Barbotan', 'Barcelona (stone)', 'Barea', 'Barnaul', 'Barntrup', 'Baroti', 'Barwell', 'Baszkówka', 'Bath', 'Bath Furnace', 'Bawku', 'Baxter', 'Beardsley', 'Beaver Creek', 'Beddgelert', 'Bells', 'Belville', 'Benares (a)', 'Benld', 'Benoni', 'Benton', 'Béréba', 'Berlanguillas', 'Bethlehem', 'Beuste', 'Beyrout', 'Bhagur', 'Bherai', 'Bhola', 'Bholghati', 'Bialystok', 'Bielokrynitschie', 'Bilanga', 'Binningup', \"Birni N'konni\", 'Bishopville', 'Bishunpur', 'Bjelaja Zerkov', 'Bjurböle', 'Black Moshannan Park', 'Blackwell', 'Blanket', 'Blansko', 'Bloomington', 'Bo Xian', 'Bocas', 'Bogou', 'Boguslavka', 'Borgo San Donino', 'Bori', 'Boriskino', 'Borkut', 'Borodino', 'Botschetschki', 'Bovedy', 'Bradford Woods', 'Braunau', 'Breitscheid', 'Bremervörde', 'Brient', 'Bruderheim', 'Bulls Run', 'Bununu', 'Bur-Gheluai', 'Burnwell', 'Bursa', 'Buschhof', 'Bustee', 'Butsura', 'Cabezo de Mayo', 'Cabin Creek', 'Cacak', 'Calivo', 'Campos Sales', 'Çanakkale', 'Cañellas', 'Cangas de Onis', 'Canon City', 'Cape Girardeau', 'Capilla del Monte', 'Caratash', 'Castalia', 'Castel Berardenga', 'Castine', 'Castrovillari', 'Caswell County', 'Ceniceros', 'Centerville', 'Cereseto', 'Chadong', 'Chail', 'Chainpur', 'Chajari', 'Chandakapur', 'Chandpur', 'Changde', 'Chantonnay', 'Charlotte', 'Charsonville', 'Charwallas', 'Chassigny', 'Château-Renard', 'Chaves', 'Chela', 'Chernyi Bor', 'Cherokee Springs', 'Chervettaz', 'Chervony Kut', 'Chetrinahatti', 'Chiang Khan', 'Chicora', 'Chisenga', 'Chitado', 'Chitenay', 'Cilimus', 'Claxton', 'Clohars', 'Colby (Wisconsin)', 'Cold Bokkeveld', 'Coleman', 'Collescipoli', 'Conquista', 'Cosina', 'Cranganore', 'Crescent', 'Cronstad', 'Cross Roads', 'Crumlin', 'Cumberland Falls', 'Cynthiana', 'Dahmani', 'Dandapur', \"Daniel's Kuil\", 'Danville', 'Darmstadt', 'Dashoguz', 'De Cewsville', 'Deal', 'Delhi', 'Demina', 'Denver', 'Desuri', 'Devri-Khera', 'Dhajala', 'Dharwar', 'Dhurmsala', 'Diep River', 'Distrito Quebracho', 'Djati-Pengilon', 'Djermaia', 'Djoumine', 'Dokachi', 'Dolgovoli', 'Domanitch', 'Dong Ujimqin Qi', 'Donga Kohrod', 'Dongtai', 'Doroninsk', 'Dosso', 'Douar Mghila', 'Dowa', 'Drake Creek', 'Dresden (Ontario)', 'Dubrovnik', 'Dunbogan', 'Dundrum', 'Dunhua', 'Durala', 'Duruma', 'Duwun', 'Dwaleni', 'Dyalpur', 'Dyarrl Island', 'Eagle', 'Ehole', 'Eichstädt', 'Ekeby', 'Ekh Khera', 'El Idrissia', 'El Paso de Aguila', 'El Tigre', 'Elbert', 'Elbogen', 'Elenovka', 'Ellemeet', 'Emmaville', 'Enshi', 'Ensisheim', 'Épinal', 'Erakot', 'Erevan', 'Ergheo', 'Erxleben', 'Esnandes', 'Essebi', 'Estherville', 'Farmington', 'Farmville', 'Favars', 'Fayetteville', 'Feid Chair', 'Felix', 'Fenghsien-Ku', 'Ferguson', 'Fermo', 'Fisher', 'Florence', 'Forest City', 'Forest Vale', 'Forksville', 'Forsbach', 'Forsyth', 'Fort Flatters', 'Frankfort (stone)', 'Fuhe', 'Fukutomi', 'Fünen', 'Futtehpur', 'Fuyang', 'Galapian', 'Galim (a)', 'Galim (b)', 'Galkiv', 'Gambat', 'Gao-Guenie', 'Garhi Yasin', 'Garland', 'Gashua', 'Geidam', 'Gifu', 'Girgenti', 'Git-Git', 'Glanerbrug', 'Glanggang', 'Glasatovo', 'Glatton', 'Gnadenfrei', 'Gopalpur', 'Gorlovka', 'Granes', 'Grefsheim', 'Grosnaja', 'Gross-Divina', 'Grossliebenthal', 'Grüneberg', 'Grzempach', 'Gualeguaychú', 'Guangmingshan', 'Guangnan', 'Guangrao', 'Guareña', 'Guêa', 'Guibga', 'Guidder', 'Gujargaon', 'Gujba', 'Gumoschnik', 'Gurram Konda', 'Gursum', 'Gütersloh', 'Gyokukei', 'Hachi-oji', 'Hainaut', 'Hallingeberg', 'Hamlet', 'Haraiya', 'Haripura', 'Harleton', 'Harrison County', 'Hashima', 'Hassi-Jekna', 'Hatford', 'Haverö', 'Hedeskoga', 'Hedjaz', 'Heredia', 'Hessle', 'Higashi-koen', 'High Possil', 'Hökmark', 'Holbrook', 'Holetta', 'Homestead', 'Honolulu', 'Hotse', 'Hoxie', 'Hraschina', 'Hungen', 'Hvittis', 'Ibbenbüren', 'Ibitira', 'Ibrisim', 'Ichkala', 'Idutywa', 'Iguaracu', 'Ijopega', 'Indarch', 'Independence', 'Inner Mongolia', 'Innisfree', 'Ipiranga', 'Ishinga', 'Isthilart', 'Itapicuru-Mirim', 'Itqiy', 'Ivuna', 'Jackalsfontein', 'Jajh deh Kot Lalu', 'Jalanash', 'Jalandhar', 'Jamkheir', 'Jartai', 'Jelica', 'Jemlapur', 'Jhung', 'Jiange', 'Jianshi', 'Jilin', 'Jodzie', 'Johnstown', 'Jolomba', 'Jonzac', 'Juancheng', 'Judesegeri', 'Jumapalo', 'Junan', 'Juromenha', 'Juvinas', 'Kaba', 'Kabo', 'Kadonah', 'Kaee', 'Kagarlyk', 'Kaidun', 'Kainsaz', 'Kakangari', 'Kakowa', 'Kalaba', 'Kalumbi', 'Kamalpur', 'Kamiomi', 'Kamsagar', 'Kandahar (Afghanistan)', 'Kangean', 'Kangra Valley', 'Kapoeta', 'Kaptal-Aryk', 'Karakol', 'Karatu', 'Karewar', 'Karkh', 'Karloowala', 'Karoonda', 'Kasamatsu', 'Katagum', 'Kayakent', 'Kediri', 'Kendleton', 'Kerilis', 'Kernouve', 'Kesen', 'Khairpur', 'Khanpur', 'Kharkov', 'Kheragur', 'Khetri', 'Khmelevka', 'Khohar', 'Khor Temiki', 'Kidairat', 'Kiel', 'Kiffa', 'Kijima (1906)', 'Kikino', 'Kilbourn', 'Killeter', 'Kingai', 'Kirbyville', 'Kisvarsány', 'Kitchener', 'Klein-Wenden', 'Knyahinya', 'Kobe', 'Kokubunji', 'Komagome', 'Konovo', 'Krähenberg', 'Krasnoi-Ugol', 'Krasnyi Klyuch', 'Krutikha', 'Krymka', 'Kukschin', 'Kulak', 'Kuleschovka', 'Kulp', 'Kunashak', 'Kunya-Urgench', 'Kushiike', 'Kusiali', 'Kutais', 'Kuttippuram', 'Kuznetzovo', 'Kyushu', 'La Bécasse', 'La Charca', 'La Colina', 'La Criolla', 'Laborel', 'Lahrauli', \"L'Aigle\", 'Lakangaon', 'Lalitpur', 'Lancé', 'Lancon', 'Långhalsen', 'Lanxi', 'Lanzenkirchen', 'Laochenzhen', 'Launton', 'Lavrentievka', 'Le Pressoir', 'Le Teilleul', 'Leedey', 'Leeuwfontein', 'Leighlinbridge', 'Leighton', 'Leonovka', 'Les Ormes', 'Lesves', 'Lichtenberg', 'Lillaverke', 'Limerick', 'Linum', 'Lishui', 'Lissa', 'Little Piney', 'Lixna', 'Lodran', 'Lohawat', 'Los Martinez', 'Lost City', 'Louisville', 'Łowicz', 'Lua', 'Lucé', 'Lumpkin', 'Lunan', 'Lundsgård', 'Luotolax', 'Luponnas', 'Lusaka', 'Mabwe-Khoywa', 'Macau', 'Machinga', 'Macibini', 'Madhipura', 'Madiun', 'Madrid', 'Mafra', 'Magnesia', 'Magombedze', 'Malaga', 'Malakal', 'Malampaka', 'Malotas', 'Malvern', 'Mamra Springs', 'Manbhoom', 'Manegaon', 'Mangwendi', 'Manych', 'Mardan', 'Maria Linden', 'Mariaville', 'Maridi', 'Marilia', 'Marion (Iowa)', 'Marjalahti', 'Marmande', 'Maryville', 'Mascombes', 'Mässing', 'Mauerkirchen', 'Mauritius', 'Mayo Belwa', 'Mazapil', 'Maziba', 'Mbale', 'Medanitos', 'Meerut', 'Meester-Cornelis', 'Menow', 'Menziswyl', 'Mern', 'Meru', 'Merua', 'Messina', 'Meuselbach', 'Mezel', 'Mezö-Madaras', 'Mhow', 'Mianchi', 'Middlesbrough', 'Mighei', 'Mihonoseki', 'Mike', 'Milena', 'Millbillillie', 'Miller (Arkansas)', 'Minamino', 'Mineo', 'Min-Fan-Zhun', 'Minnichhof', 'Mirzapur', 'Misshof', 'Mjelleim', 'Mocs', 'Modoc (1905)', 'Mokoia', 'Molina', 'Molteno', 'Monahans (1998)', 'Monroe', 'Monte das Fortes', 'Monte Milone', 'Montferré', 'Montlivault', 'Monze', 'Moore County', 'Mooresfort', 'Moorleah', 'Moradabad', 'Mornans', 'Moti-ka-nagla', 'Motta di Conti', 'Mount Browne', 'Mount Tazerzait', 'Mount Vaisi', 'Mtola', 'Muddoor', 'Mulletiwu', 'Muraid', 'Murchison', 'Murray', 'Muzaffarpur', 'Myhee Caunta', 'Nadiabondi', 'Nagai', 'Nagaria', 'Nagy-Borové', 'Nakhla', 'Nakhon Pathom', 'Nammianthal', 'Nan Yang Pao', 'Nanjemoy', 'Nantong', 'Naoki', 'Naragh', 'Narellan', 'Narni', 'Nassirah', 'Natal', 'Nawapali', 'Neagari', 'Nedagolla', 'Nejo', 'Nerft', 'New Concord', 'New Halfa', 'Ngawi', \"N'Goureyma\", 'Nicorps', 'Niger (L6)', 'Niger (LL6)', 'Nikolaevka', 'Nikolskoe', 'Ningbo', 'Ningqiang', 'Nio', \"N'Kandhla\", 'Nobleborough', 'Noblesville', 'Nogata', 'Nogoya', 'Norfork', 'Norton County', 'Noventa Vicentina', 'Novo-Urei', 'Novy-Ergi', 'Novy-Projekt', 'Noyan-Bogdo', 'Nuevo Mercurio', 'Nulles', 'Numakai', 'Nyaung', 'Nyirábrany', 'Ochansk', 'Oesede', 'Oesel', 'Ofehértó', 'Ogi', 'Ohaba', 'Ohuma', 'Ojuelos Altos', 'Okabe', 'Okano', 'Okniny', 'Oldenburg (1930)', 'Oliva-Gandia', 'Olivenza', 'Olmedilla de Alarcón', 'Omolon', 'Orgueil', 'Ornans', 'Ortenau', 'Orvinio', 'Oterøy', 'Otomi', 'Ottawa', 'Oued el Hadjar', 'Ourique', 'Ovambo', 'Oviedo', 'Owrucz', 'Pacula', 'Padvarninkai', 'Paitan', 'Palahatchie', 'Palca de Aparzo', 'Palinshih', 'Palmyra', 'Palolo Valley', 'Pampanga', 'Pantar', 'Paragould', 'Parambu', 'Paranaiba', 'Parnallee', 'Parsa', 'Pasamonte', 'Patora', 'Patrimonio', 'Patti', 'Patwar', 'Pavel', 'Pavlodar (stone)', 'Pavlograd', 'Pavlovka', 'Pê', 'Peace River', 'Peckelsheim', 'Peekskill', 'Peña Blanca Spring', 'Peramiho', 'Perpeti', 'Perth', 'Pervomaisky', 'Pesyanoe', 'Pétèlkolé', 'Petersburg', 'Pettiswood', 'Phillips County (stone)', 'Phu Hong', 'Phum Sambo', 'Phuoc-Binh', 'Piancaldoli', 'Picote', 'Pillistfer', 'Piplia Kalan', 'Piquetberg', 'Pirgunje', 'Pirthalla', 'Pitts', 'Plantersville', 'Ploschkovitz', 'Pnompehn', 'Pohlitz', 'Pokhra', 'Pollen', 'Pontlyfni', 'Portales Valley', 'Portugal', 'Po-wang Chen', 'Prambachkirchen', 'Pribram', 'Pricetown', 'Pulsora', 'Pultusk', 'Punganaru', 'Putinga', 'Qidong', 'Qingzhen', \"Queen's Mercy\", 'Quenggouk', 'Quesa', 'Quija', 'Quincay', 'Raco', 'Raghunathpura', 'Rahimyar Khan', 'Rakovka', 'Ramnagar', 'Rampurhat', 'Ramsdorf', 'Ranchapur', 'Rancho de la Presa', 'Rangala', 'Raoyang', 'Ras Tanura', 'Rasgrad', 'Ratyn', 'Reliegos', 'Rembang', 'Renazzo', 'Renca', 'Renqiu', 'Repeev Khutor', 'Revelstoke', 'Rewari', 'Rich Mountain', 'Uzcudun', 'Richardton', 'Richland Springs', 'Richmond', 'Rio Negro', 'Rivolta de Bassi', 'Rochester', 'Rockhampton', 'Roda', 'Rodach', 'Rose City', 'Rowton', 'Ruhobobo', 'Rumuruti', 'Rupota', 'Ryechki', 'Sabetmahet', 'Sabrum', 'Sagan', 'Saint-Sauveur', 'Saint-Séverin', 'Sakauchi', 'Salem', 'Salles', 'Salzwedel', 'Samelia', 'San Juan Capistrano', 'San Pedro de Quiles', 'San Pedro Jacuaro', 'Santa Barbara', 'Santa Cruz', 'Santa Isabel', 'São Jose do Rio Preto', 'Saratov', 'Sasagase', 'Sauguis', 'Savtschenskoje', 'Sayama', 'Sazovice', 'Schellin', 'Schenectady', 'Schönenberg', 'Searsmont', 'Sediköy', 'Segowlie', 'Selakopi', 'Seldebourak', 'Semarkona', 'Sena', 'Senboku', 'Seoni', 'Seres', 'Serra de Magé', 'Sete Lagoas', 'Sevilla', 'Sevrukovo', 'Sfax', 'Shalka', 'Sharps', 'Shelburne', 'Shergotty', 'Sheyang', 'Shikarpur', 'Shuangyang', 'Shupiyan', 'Shytal', 'Siena', 'Sikhote-Alin', 'Silao', 'Silistra', 'Simmern', 'Sinai', 'Sindhri', 'Sinnai', 'Sioux County', 'Sitathali', 'Sivas', 'Sixiangkou', 'Ski', 'Slavetic', 'Slobodka', 'Soheria', 'Soko-Banja', 'Sologne', 'Sone', 'Songyuan', 'Sopot', 'Soroti', 'St. Caprais-de-Quinsac', 'St. Christophe-la-Chartreuse', 'St. Denis Westrem', 'St. Germain-du-Pinel', 'St. Louis', \"St. Mark's\", \"St. Mary's County\", 'St. Mesmin', 'St. Michel', 'St.-Chinian', 'Ställdalen', 'Stannern', 'Stavropol', 'Ste. Marguerite', 'Sterlitamak', 'Stolzenau', 'Stratford', 'Strathmore', 'Stretchleigh', 'St-Robert', 'Success', 'Suchy Dul', 'Suizhou', 'Sultanpur', 'Sungach', 'Supuhee', 'Sylacauga', 'Tabor', 'Tadjera', 'Tahara', 'Takenouchi', 'Talampaya', 'Tambakwatu', 'Tané', 'Taonan', 'Tatahouine', 'Tathlith', 'Tauk', 'Tauti', 'Tenham', 'Tennasilm', 'Thal', 'Tianzhang', 'Tieschitz', 'Tilden', 'Tillaberi', 'Timochin', 'Tirupati', 'Tjabe', 'Tjerebon', 'Tomakovka']\n"
     ]
    },
    {
     "data": {
      "image/png": "[encoded data removed]",
      "text/plain": [
       "<Figure size 720x432 with 1 Axes>"
      ]
     },
     "metadata": {},
     "output_type": "display_data"
    }
   ],
   "source": [
    "#the values in year column are in the form YYYY-MM-DDTHH:MM:SS.SSS and we only want the YYYY\n",
    "#using the string split to correct the data\n",
    "df['year'] = df['year'].str[:4]\n",
    "#converting 'year' column from string to numeric\n",
    "df['year'] = pd.to_numeric(df['year'])\n",
    "\n",
    "#Get all the Earth meteorites that fell before the year 2000\n",
    "# Filtering the DataFrame to get the Earth meteorites that fell before the year 2000\n",
    "fell_b4_2000 = df[(df['fall'] == 'Fell') & (df['year'] < 2000)]\n",
    "print(\"There are total %s out of %s Earth meteorites that fell before the year 2000\\n\" %(len(fell_b4_2000),len(df)))\n",
    "print(fell_b4_2000['name'].to_list())\n",
    "\n",
    "# Visualization\n",
    "total=len(df)\n",
    "fell_b4_2000_c = len(fell_b4_2000)\n",
    "labels = ['Total Meteorites', 'Meteorites that fell before the year 2000']\n",
    "sizes = [total-fell_b4_2000_c,total]\n",
    "plt.figure(figsize=(10, 6))\n",
    "plt.pie(sizes, labels=labels, autopct='%1.1f%%')\n",
    "plt.title('Total Meteorites vs. Meteorites that fell before the year 2000',fontsize=12)\n",
    "plt.show()"
   ]
  },
  {
   "cell_type": "code",
   "execution_count": 262,
   "metadata": {},
   "outputs": [
    {
     "name": "stdout",
     "output_type": "stream",
     "text": [
      "There are total 780 out of 1000 Earth meteorites that fell before the year 2000\n",
      "\n",
      "       reclat    reclong\n",
      "0    50.77500    6.08333\n",
      "1    56.18333   10.23333\n",
      "2    54.21667 -113.00000\n",
      "4   -33.16667  -64.95000\n",
      "5    32.10000   71.80000\n",
      "..        ...        ...\n",
      "994  54.50000   35.20000\n",
      "995  13.63333   79.41667\n",
      "997  -7.08333  111.53333\n",
      "998  -6.66667  106.58333\n",
      "999  47.85000   34.76667\n",
      "\n",
      "[780 rows x 2 columns]\n"
     ]
    }
   ],
   "source": [
    "#Get all the earth meteorites co-ordinates who fell before the year 1970\n",
    "fell_b4_1970 = df[(df['fall'] == 'Fell') & (df['year'] < 1970)]\n",
    "print(\"There are total %s out of %s Earth meteorites that fell before the year 2000\\n\" %(len(fell_b4_1970),len(df)))\n",
    "\n",
    "# Get the coordinates of the filtered meteorites\n",
    "coordinates = fell_b4_1970[['reclat', 'reclong']]\n",
    "\n",
    "# Print the coordinates\n",
    "print(coordinates)"
   ]
  },
  {
   "cell_type": "code",
   "execution_count": 264,
   "metadata": {},
   "outputs": [
    {
     "name": "stdout",
     "output_type": "stream",
     "text": [
      "           name      mass\n",
      "2          Abee  107000.0\n",
      "7          Agen   30000.0\n",
      "11          Aïr   24000.0\n",
      "16      Akyumak   50000.0\n",
      "27   Alfianello  228000.0\n",
      "..          ...       ...\n",
      "991   Tieschitz   28000.0\n",
      "992      Tilden   74800.0\n",
      "994    Timochin   65500.0\n",
      "997       Tjabe   20000.0\n",
      "998    Tjerebon   16500.0\n",
      "\n",
      "[243 rows x 2 columns]\n"
     ]
    }
   ],
   "source": [
    "# Converting the 'mass (g)' column to numeric\n",
    "df['mass'] = pd.to_numeric(df['mass'], errors='coerce')\n",
    "\n",
    "# Filtering the DataFrame for Earth meteorites with mass more than 10000 kg\n",
    "filtered_df = df[df['mass'] > 10000]\n",
    "\n",
    "# Print the meteorites with mass more than 10000 kg\n",
    "print(filtered_df[['name', 'mass']])"
   ]
  },
  {
   "cell_type": "code",
   "execution_count": null,
   "metadata": {},
   "outputs": [],
   "source": []
  },
  {
   "cell_type": "code",
   "execution_count": null,
   "metadata": {},
   "outputs": [],
   "source": []
  },
  {
   "cell_type": "markdown",
   "metadata": {},
   "source": [
    "Question 8 -\n",
    "\n",
    "Using the data from Question 5, write code the analyze the data and answer the following questions \n",
    "\n",
    "Note -\n",
    "\n",
    "1. Draw plots to demonstrate the analysis for the following questions and better visualizations\n",
    "\n",
    "2. Write code comments wherever required for code understanding\n",
    "\n",
    "Insights to be drawn -\n",
    "\n",
    "● Get all the overall ratings for each season and using plots compare the ratings for all the\n",
    "seasons, like season 1 ratings, season 2, and so on.\n",
    "\n",
    "● Get all the episode names, whose average rating is more than 8 for every season\n",
    "\n",
    "● Get all the episode names that aired before May 2019\n",
    "\n",
    "\n",
    "● Get the episode name from each season with the highest and lowest rating\n",
    "\n",
    "● Get the summary for the most popular ( ratings ) episode in every season"
   ]
  },
  {
   "cell_type": "code",
   "execution_count": 323,
   "metadata": {},
   "outputs": [
    {
     "data": {
      "text/html": [
       "<div>\n",
       "<style scoped>\n",
       "    .dataframe tbody tr th:only-of-type {\n",
       "        vertical-align: middle;\n",
       "    }\n",
       "\n",
       "    .dataframe tbody tr th {\n",
       "        vertical-align: top;\n",
       "    }\n",
       "\n",
       "    .dataframe thead th {\n",
       "        text-align: right;\n",
       "    }\n",
       "</style>\n",
       "<table border=\"1\" class=\"dataframe\">\n",
       "  <thead>\n",
       "    <tr style=\"text-align: right;\">\n",
       "      <th></th>\n",
       "      <th>id</th>\n",
       "      <th>url</th>\n",
       "      <th>name</th>\n",
       "      <th>season</th>\n",
       "      <th>number</th>\n",
       "      <th>type</th>\n",
       "      <th>airdate</th>\n",
       "      <th>airtime</th>\n",
       "      <th>airstamp</th>\n",
       "      <th>runtime</th>\n",
       "      <th>rating</th>\n",
       "      <th>image</th>\n",
       "      <th>summary</th>\n",
       "      <th>_links</th>\n",
       "    </tr>\n",
       "  </thead>\n",
       "  <tbody>\n",
       "    <tr>\n",
       "      <th>0</th>\n",
       "      <td>869671</td>\n",
       "      <td>https://www.tvmaze.com/episodes/869671/westwor...</td>\n",
       "      <td>The Original</td>\n",
       "      <td>1</td>\n",
       "      <td>1</td>\n",
       "      <td>regular</td>\n",
       "      <td>2016-10-02</td>\n",
       "      <td>21:00</td>\n",
       "      <td>2016-10-03T01:00:00+00:00</td>\n",
       "      <td>68</td>\n",
       "      <td>{'average': 8}</td>\n",
       "      <td>{'medium': 'https://static.tvmaze.com/uploads/...</td>\n",
       "      <td>&lt;p&gt;A woman named Dolores is a free spirit in t...</td>\n",
       "      <td>{'self': {'href': 'https://api.tvmaze.com/epis...</td>\n",
       "    </tr>\n",
       "    <tr>\n",
       "      <th>1</th>\n",
       "      <td>911201</td>\n",
       "      <td>https://www.tvmaze.com/episodes/911201/westwor...</td>\n",
       "      <td>Chestnut</td>\n",
       "      <td>1</td>\n",
       "      <td>2</td>\n",
       "      <td>regular</td>\n",
       "      <td>2016-10-09</td>\n",
       "      <td>21:00</td>\n",
       "      <td>2016-10-10T01:00:00+00:00</td>\n",
       "      <td>60</td>\n",
       "      <td>{'average': 7.7}</td>\n",
       "      <td>{'medium': 'https://static.tvmaze.com/uploads/...</td>\n",
       "      <td>&lt;p&gt;Bernard suspects that someone is sabotaging...</td>\n",
       "      <td>{'self': {'href': 'https://api.tvmaze.com/epis...</td>\n",
       "    </tr>\n",
       "    <tr>\n",
       "      <th>2</th>\n",
       "      <td>911204</td>\n",
       "      <td>https://www.tvmaze.com/episodes/911204/westwor...</td>\n",
       "      <td>The Stray</td>\n",
       "      <td>1</td>\n",
       "      <td>3</td>\n",
       "      <td>regular</td>\n",
       "      <td>2016-10-16</td>\n",
       "      <td>21:00</td>\n",
       "      <td>2016-10-17T01:00:00+00:00</td>\n",
       "      <td>60</td>\n",
       "      <td>{'average': 7.6}</td>\n",
       "      <td>{'medium': 'https://static.tvmaze.com/uploads/...</td>\n",
       "      <td>&lt;p&gt;Bernard continues to investigate Dolores' s...</td>\n",
       "      <td>{'self': {'href': 'https://api.tvmaze.com/epis...</td>\n",
       "    </tr>\n",
       "    <tr>\n",
       "      <th>3</th>\n",
       "      <td>911205</td>\n",
       "      <td>https://www.tvmaze.com/episodes/911205/westwor...</td>\n",
       "      <td>Dissonance Theory</td>\n",
       "      <td>1</td>\n",
       "      <td>4</td>\n",
       "      <td>regular</td>\n",
       "      <td>2016-10-23</td>\n",
       "      <td>21:00</td>\n",
       "      <td>2016-10-24T01:00:00+00:00</td>\n",
       "      <td>60</td>\n",
       "      <td>{'average': 7.9}</td>\n",
       "      <td>{'medium': 'https://static.tvmaze.com/uploads/...</td>\n",
       "      <td>&lt;p&gt;While Dolores joins William and Logan on th...</td>\n",
       "      <td>{'self': {'href': 'https://api.tvmaze.com/epis...</td>\n",
       "    </tr>\n",
       "    <tr>\n",
       "      <th>4</th>\n",
       "      <td>927174</td>\n",
       "      <td>https://www.tvmaze.com/episodes/927174/westwor...</td>\n",
       "      <td>Contrapasso</td>\n",
       "      <td>1</td>\n",
       "      <td>5</td>\n",
       "      <td>regular</td>\n",
       "      <td>2016-10-30</td>\n",
       "      <td>21:00</td>\n",
       "      <td>2016-10-31T01:00:00+00:00</td>\n",
       "      <td>60</td>\n",
       "      <td>{'average': 8}</td>\n",
       "      <td>{'medium': 'https://static.tvmaze.com/uploads/...</td>\n",
       "      <td>&lt;p&gt;Dolores takes the first step on her path of...</td>\n",
       "      <td>{'self': {'href': 'https://api.tvmaze.com/epis...</td>\n",
       "    </tr>\n",
       "  </tbody>\n",
       "</table>\n",
       "</div>"
      ],
      "text/plain": [
       "       id                                                url   \n",
       "0  869671  https://www.tvmaze.com/episodes/869671/westwor...  \\\n",
       "1  911201  https://www.tvmaze.com/episodes/911201/westwor...   \n",
       "2  911204  https://www.tvmaze.com/episodes/911204/westwor...   \n",
       "3  911205  https://www.tvmaze.com/episodes/911205/westwor...   \n",
       "4  927174  https://www.tvmaze.com/episodes/927174/westwor...   \n",
       "\n",
       "                name  season  number     type     airdate airtime   \n",
       "0       The Original       1       1  regular  2016-10-02   21:00  \\\n",
       "1           Chestnut       1       2  regular  2016-10-09   21:00   \n",
       "2          The Stray       1       3  regular  2016-10-16   21:00   \n",
       "3  Dissonance Theory       1       4  regular  2016-10-23   21:00   \n",
       "4        Contrapasso       1       5  regular  2016-10-30   21:00   \n",
       "\n",
       "                    airstamp  runtime            rating   \n",
       "0  2016-10-03T01:00:00+00:00       68    {'average': 8}  \\\n",
       "1  2016-10-10T01:00:00+00:00       60  {'average': 7.7}   \n",
       "2  2016-10-17T01:00:00+00:00       60  {'average': 7.6}   \n",
       "3  2016-10-24T01:00:00+00:00       60  {'average': 7.9}   \n",
       "4  2016-10-31T01:00:00+00:00       60    {'average': 8}   \n",
       "\n",
       "                                               image   \n",
       "0  {'medium': 'https://static.tvmaze.com/uploads/...  \\\n",
       "1  {'medium': 'https://static.tvmaze.com/uploads/...   \n",
       "2  {'medium': 'https://static.tvmaze.com/uploads/...   \n",
       "3  {'medium': 'https://static.tvmaze.com/uploads/...   \n",
       "4  {'medium': 'https://static.tvmaze.com/uploads/...   \n",
       "\n",
       "                                             summary   \n",
       "0  <p>A woman named Dolores is a free spirit in t...  \\\n",
       "1  <p>Bernard suspects that someone is sabotaging...   \n",
       "2  <p>Bernard continues to investigate Dolores' s...   \n",
       "3  <p>While Dolores joins William and Logan on th...   \n",
       "4  <p>Dolores takes the first step on her path of...   \n",
       "\n",
       "                                              _links  \n",
       "0  {'self': {'href': 'https://api.tvmaze.com/epis...  \n",
       "1  {'self': {'href': 'https://api.tvmaze.com/epis...  \n",
       "2  {'self': {'href': 'https://api.tvmaze.com/epis...  \n",
       "3  {'self': {'href': 'https://api.tvmaze.com/epis...  \n",
       "4  {'self': {'href': 'https://api.tvmaze.com/epis...  "
      ]
     },
     "execution_count": 323,
     "metadata": {},
     "output_type": "execute_result"
    }
   ],
   "source": [
    "import requests\n",
    "import matplotlib.pyplot as plt\n",
    "\n",
    "# API endpoint\n",
    "api_link = \"http://api.tvmaze.com/singlesearch/shows?q=westworld&embed=episodes\"\n",
    "\n",
    "# Fetch data from the API\n",
    "response = requests.get(api_link)\n",
    "data = response.json()\n",
    "\n",
    "# Extract the episodes data\n",
    "episodes = data['_embedded']['episodes']\n",
    "df=pd.DataFrame(episodes)\n",
    "df.head()"
   ]
  },
  {
   "cell_type": "code",
   "execution_count": 324,
   "metadata": {},
   "outputs": [
    {
     "name": "stdout",
     "output_type": "stream",
     "text": [
      "<class 'pandas.core.frame.DataFrame'>\n",
      "RangeIndex: 36 entries, 0 to 35\n",
      "Data columns (total 14 columns):\n",
      " #   Column    Non-Null Count  Dtype \n",
      "---  ------    --------------  ----- \n",
      " 0   id        36 non-null     int64 \n",
      " 1   url       36 non-null     object\n",
      " 2   name      36 non-null     object\n",
      " 3   season    36 non-null     int64 \n",
      " 4   number    36 non-null     int64 \n",
      " 5   type      36 non-null     object\n",
      " 6   airdate   36 non-null     object\n",
      " 7   airtime   36 non-null     object\n",
      " 8   airstamp  36 non-null     object\n",
      " 9   runtime   36 non-null     int64 \n",
      " 10  rating    36 non-null     object\n",
      " 11  image     36 non-null     object\n",
      " 12  summary   36 non-null     object\n",
      " 13  _links    36 non-null     object\n",
      "dtypes: int64(4), object(10)\n",
      "memory usage: 4.1+ KB\n"
     ]
    }
   ],
   "source": [
    "df.info()"
   ]
  },
  {
   "cell_type": "code",
   "execution_count": 326,
   "metadata": {},
   "outputs": [
    {
     "data": {
      "image/png": "[encoded data removed]",
      "text/plain": [
       "<Figure size 432x288 with 1 Axes>"
      ]
     },
     "metadata": {
      "needs_background": "light"
     },
     "output_type": "display_data"
    }
   ],
   "source": [
    "# Extract the numeric rating value from the dictionary\n",
    "df['rating'] = df['rating'].apply(lambda x: x['average'])\n",
    "\n",
    "# Convert 'rating' column to numeric\n",
    "df['rating'] = pd.to_numeric(df['rating'], errors='coerce')\n",
    "\n",
    "# Group the data by season and calculate the mean rating for each season\n",
    "season_ratings = df.groupby('season')['rating'].mean()\n",
    "\n",
    "# Group the data by season and get the unique seasons\n",
    "grouped_data = df.groupby('season')\n",
    "seasons = grouped_data.groups.keys()\n",
    "\n",
    "# Plot the ratings for each season\n",
    "for season in seasons:\n",
    "    season_data = grouped_data.get_group(season)\n",
    "    plt.plot(season_data['number'], season_data['rating'], marker='o', label=f'Season {season}')\n",
    "\n",
    "# Set labels, title, grid, and legend\n",
    "plt.xlabel('Episode Number')\n",
    "plt.ylabel('Rating')\n",
    "plt.title('Rating for Each Season')\n",
    "plt.grid(True)\n",
    "plt.legend()\n",
    "\n",
    "# Show the plot\n",
    "plt.show()\n"
   ]
  },
  {
   "cell_type": "code",
   "execution_count": 330,
   "metadata": {},
   "outputs": [
    {
     "name": "stdout",
     "output_type": "stream",
     "text": [
      "Season 1 Episode Names with Average Rating > 8:\n",
      "The Bicameral Mind\n",
      "The Well-Tempered Clavier\n",
      "Trompe L'Oeil\n",
      "\n",
      "Season 2 Episode Names with Average Rating > 8:\n",
      "Kiksuya\n",
      "The Passenger\n",
      "Vanishing Point\n",
      "\n",
      "Season 3 Episode Names with Average Rating > 8:\n",
      "\n",
      "Season 4 Episode Names with Average Rating > 8:\n",
      "\n"
     ]
    }
   ],
   "source": [
    "# Question 2: Get all the episode names with average rating more than 8 for every season\n",
    "# Grouping the data by season and episode name, and calculate the average rating for each episode\n",
    "episode_ratings = df.groupby(['season', 'name'])['rating'].mean()\n",
    "\n",
    "# Iterate over the unique seasons\n",
    "for season in df['season'].unique():\n",
    "    print(f\"Season {season} Episode Names with Average Rating > 8:\")\n",
    "    \n",
    "    # Get the episode names for the current season with average rating greater than 8\n",
    "    high_rated_episodes = episode_ratings.loc[season][episode_ratings.loc[season] > 8].index.tolist()\n",
    "    \n",
    "    # Print the episode names\n",
    "    for episode_name in high_rated_episodes:\n",
    "        print(episode_name)\n",
    "    \n",
    "    print()"
   ]
  },
  {
   "cell_type": "code",
   "execution_count": 343,
   "metadata": {},
   "outputs": [
    {
     "name": "stdout",
     "output_type": "stream",
     "text": [
      "Episodes Aired Before May 2019:\n",
      "1. The Original\n",
      "2. Chestnut\n",
      "3. The Stray\n",
      "4. Dissonance Theory\n",
      "5. Contrapasso\n",
      "6. The Adversary\n",
      "7. Trompe L'Oeil\n",
      "8. Trace Decay\n",
      "9. The Well-Tempered Clavier\n",
      "10. The Bicameral Mind\n",
      "11. Journey Into Night\n",
      "12. Reunion\n",
      "13. Virtù e Fortuna\n",
      "14. The Riddle of the Sphinx\n",
      "15. Akane No Mai\n",
      "16. Phase Space\n",
      "17. Les Écorchés\n",
      "18. Kiksuya\n",
      "19. Vanishing Point\n",
      "20. The Passenger\n"
     ]
    }
   ],
   "source": [
    "from datetime import datetime\n",
    "# Get all the episode names that aired before May 2019.\n",
    "# Filter the episodes based on the airdate\n",
    "b4_2019_episodes = df[df['airdate'] < '2019-05-01']['name'].tolist()\n",
    "\n",
    "print(\"Episodes Aired Before May 2019:\")\n",
    "for i, episode in enumerate(b4_2019_episodes, 1):\n",
    "    print(f\"{i}. {episode}\")"
   ]
  },
  {
   "cell_type": "code",
   "execution_count": 345,
   "metadata": {},
   "outputs": [
    {
     "name": "stdout",
     "output_type": "stream",
     "text": [
      "Episodes with Highest Ratings by Season:\n",
      "+----+----------+--------------------+----------+\n",
      "|    |   Season | Episode Name       |   Rating |\n",
      "|----+----------+--------------------+----------|\n",
      "|  0 |        1 | The Bicameral Mind |      8.7 |\n",
      "|  1 |        2 | Kiksuya            |      8.7 |\n",
      "|  2 |        3 | Parce Domine       |      8   |\n",
      "|  3 |        4 | Zhuangzi           |      7.8 |\n",
      "+----+----------+--------------------+----------+\n",
      "\n",
      "Episodes with Lowest Ratings by Season:\n",
      "+----+----------+----------------+----------+\n",
      "|    |   Season | Episode Name   |   Rating |\n",
      "|----+----------+----------------+----------|\n",
      "|  0 |        1 | The Stray      |      7.6 |\n",
      "|  1 |        2 | Akane No Mai   |      7.6 |\n",
      "|  2 |        3 | Decoherence    |      7.5 |\n",
      "|  3 |        4 | The Auguries   |      7.1 |\n",
      "+----+----------+----------------+----------+\n"
     ]
    }
   ],
   "source": [
    "from tabulate import tabulate\n",
    "\n",
    "# Finding the episode with the highest rating for each season\n",
    "highest_ratings = df.groupby('season')['rating'].idxmax()\n",
    "highest_rated_episodes = df.loc[highest_ratings, ['season', 'name', 'rating']]\n",
    "\n",
    "# Finding the episode with the lowest rating for each season\n",
    "lowest_ratings = df.groupby('season')['rating'].idxmin()\n",
    "lowest_rated_episodes = df.loc[lowest_ratings, ['season', 'name', 'rating']]\n",
    "\n",
    "# Formating the output as a table\n",
    "highest_rated_table = highest_rated_episodes.reset_index(drop=True)\n",
    "highest_rated_table.columns = ['Season', 'Episode Name', 'Rating']\n",
    "\n",
    "lowest_rated_table = lowest_rated_episodes.reset_index(drop=True)\n",
    "lowest_rated_table.columns = ['Season', 'Episode Name', 'Rating']\n",
    "\n",
    "# Print the tables\n",
    "print(\"Episodes with Highest Ratings by Season:\")\n",
    "print(tabulate(highest_rated_table, headers='keys', tablefmt='psql'))\n",
    "\n",
    "print(\"\\nEpisodes with Lowest Ratings by Season:\")\n",
    "print(tabulate(lowest_rated_table, headers='keys', tablefmt='psql'))\n"
   ]
  },
  {
   "cell_type": "code",
   "execution_count": 340,
   "metadata": {},
   "outputs": [
    {
     "name": "stdout",
     "output_type": "stream",
     "text": [
      "Most Popular Episodes by Season \n",
      " \n",
      "Season 1:\n",
      "Episode Name: The Bicameral Mind\n",
      "Summary: <p>Delores finds out the truth about William's fate. Meanwhile, Maeve organizes an escape plan, only to discover that someone else is pulling the strings. And Robert plays the final piece in his grand narrative.</p>\n",
      "\n",
      "Season 2:\n",
      "Episode Name: Kiksuya\n",
      "Summary: <p>Another of Westworld's Host revolutionaries is revealed. Meanwhile, Emily finds the Man and convinces the Ghost Nation to hand him over to her to ensure his suffering.</p>\n",
      "\n",
      "Season 3:\n",
      "Episode Name: Parce Domine\n",
      "Summary: <p>If you're stuck in a loop, try walking in a straight line.</p>\n",
      "\n",
      "Season 4:\n",
      "Episode Name: Zhuangzi\n",
      "Summary: <p>God is bored.</p>\n",
      "\n"
     ]
    }
   ],
   "source": [
    "# Find the episode with the highest rating for each season\n",
    "highest_ratings = df.groupby('season')['rating'].idxmax()\n",
    "most_popular_episodes = df.loc[highest_ratings, ['season', 'name', 'summary']]\n",
    "\n",
    "print(\"Most Popular Episodes by Season \\n \")\n",
    "for index, row in most_popular_episodes.iterrows():\n",
    "    print(f\"Season {row['season']}:\")\n",
    "    print(f\"Episode Name: {row['name']}\")\n",
    "    print(f\"Summary: {row['summary']}\")\n",
    "    print()\n"
   ]
  },
  {
   "cell_type": "code",
   "execution_count": null,
   "metadata": {},
   "outputs": [],
   "source": []
  },
  {
   "cell_type": "code",
   "execution_count": null,
   "metadata": {},
   "outputs": [],
   "source": []
  },
  {
   "cell_type": "markdown",
   "metadata": {},
   "source": [
    "Question 9 -\n",
    "\n",
    "Write a program to read the data from the following link, perform data analysis and answer the following\n",
    "questions\n",
    "\n",
    "Note -\n",
    "\n",
    "1. Write code comments wherever required for code understanding\n",
    "\n",
    "Link - https://data.wa.gov/api/views/f6w7-q2d2/rows.csv?accessType=DOWNLOAD\n",
    "\n",
    "Insights to be drawn -\n",
    "\n",
    "● Get all the cars and their types that do not qualify for clean alternative fuel vehicle\n",
    "\n",
    "● Get all TESLA cars with the model year, and model type made in Bothell City.\n",
    "\n",
    "● Get all the cars that have an electric range of more than 100, and were made after 2015\n",
    "\n",
    "● Draw plots to show the distribution between city and electric vehicle type"
   ]
  },
  {
   "cell_type": "code",
   "execution_count": 354,
   "metadata": {},
   "outputs": [
    {
     "data": {
      "text/html": [
       "<div>\n",
       "<style scoped>\n",
       "    .dataframe tbody tr th:only-of-type {\n",
       "        vertical-align: middle;\n",
       "    }\n",
       "\n",
       "    .dataframe tbody tr th {\n",
       "        vertical-align: top;\n",
       "    }\n",
       "\n",
       "    .dataframe thead th {\n",
       "        text-align: right;\n",
       "    }\n",
       "</style>\n",
       "<table border=\"1\" class=\"dataframe\">\n",
       "  <thead>\n",
       "    <tr style=\"text-align: right;\">\n",
       "      <th></th>\n",
       "      <th>VIN (1-10)</th>\n",
       "      <th>County</th>\n",
       "      <th>City</th>\n",
       "      <th>State</th>\n",
       "      <th>Postal Code</th>\n",
       "      <th>Model Year</th>\n",
       "      <th>Make</th>\n",
       "      <th>Model</th>\n",
       "      <th>Electric Vehicle Type</th>\n",
       "      <th>Clean Alternative Fuel Vehicle (CAFV) Eligibility</th>\n",
       "      <th>Electric Range</th>\n",
       "      <th>Base MSRP</th>\n",
       "      <th>Legislative District</th>\n",
       "      <th>DOL Vehicle ID</th>\n",
       "      <th>Vehicle Location</th>\n",
       "      <th>Electric Utility</th>\n",
       "      <th>2020 Census Tract</th>\n",
       "    </tr>\n",
       "  </thead>\n",
       "  <tbody>\n",
       "    <tr>\n",
       "      <th>0</th>\n",
       "      <td>5YJXCAE26J</td>\n",
       "      <td>Yakima</td>\n",
       "      <td>Yakima</td>\n",
       "      <td>WA</td>\n",
       "      <td>98908.0</td>\n",
       "      <td>2018</td>\n",
       "      <td>TESLA</td>\n",
       "      <td>MODEL X</td>\n",
       "      <td>Battery Electric Vehicle (BEV)</td>\n",
       "      <td>Clean Alternative Fuel Vehicle Eligible</td>\n",
       "      <td>238</td>\n",
       "      <td>0</td>\n",
       "      <td>14.0</td>\n",
       "      <td>141151601</td>\n",
       "      <td>POINT (-120.56916 46.58514)</td>\n",
       "      <td>PACIFICORP</td>\n",
       "      <td>5.307700e+10</td>\n",
       "    </tr>\n",
       "    <tr>\n",
       "      <th>1</th>\n",
       "      <td>JHMZC5F37M</td>\n",
       "      <td>Kitsap</td>\n",
       "      <td>Poulsbo</td>\n",
       "      <td>WA</td>\n",
       "      <td>98370.0</td>\n",
       "      <td>2021</td>\n",
       "      <td>HONDA</td>\n",
       "      <td>CLARITY</td>\n",
       "      <td>Plug-in Hybrid Electric Vehicle (PHEV)</td>\n",
       "      <td>Clean Alternative Fuel Vehicle Eligible</td>\n",
       "      <td>47</td>\n",
       "      <td>0</td>\n",
       "      <td>23.0</td>\n",
       "      <td>171566447</td>\n",
       "      <td>POINT (-122.64681 47.73689)</td>\n",
       "      <td>PUGET SOUND ENERGY INC</td>\n",
       "      <td>5.303509e+10</td>\n",
       "    </tr>\n",
       "    <tr>\n",
       "      <th>2</th>\n",
       "      <td>5YJ3E1EB0K</td>\n",
       "      <td>King</td>\n",
       "      <td>Seattle</td>\n",
       "      <td>WA</td>\n",
       "      <td>98199.0</td>\n",
       "      <td>2019</td>\n",
       "      <td>TESLA</td>\n",
       "      <td>MODEL 3</td>\n",
       "      <td>Battery Electric Vehicle (BEV)</td>\n",
       "      <td>Clean Alternative Fuel Vehicle Eligible</td>\n",
       "      <td>220</td>\n",
       "      <td>0</td>\n",
       "      <td>36.0</td>\n",
       "      <td>9426525</td>\n",
       "      <td>POINT (-122.40092 47.65908)</td>\n",
       "      <td>CITY OF SEATTLE - (WA)|CITY OF TACOMA - (WA)</td>\n",
       "      <td>5.303301e+10</td>\n",
       "    </tr>\n",
       "    <tr>\n",
       "      <th>3</th>\n",
       "      <td>1N4AZ0CP5D</td>\n",
       "      <td>King</td>\n",
       "      <td>Seattle</td>\n",
       "      <td>WA</td>\n",
       "      <td>98119.0</td>\n",
       "      <td>2013</td>\n",
       "      <td>NISSAN</td>\n",
       "      <td>LEAF</td>\n",
       "      <td>Battery Electric Vehicle (BEV)</td>\n",
       "      <td>Clean Alternative Fuel Vehicle Eligible</td>\n",
       "      <td>75</td>\n",
       "      <td>0</td>\n",
       "      <td>36.0</td>\n",
       "      <td>211807760</td>\n",
       "      <td>POINT (-122.3684 47.64586)</td>\n",
       "      <td>CITY OF SEATTLE - (WA)|CITY OF TACOMA - (WA)</td>\n",
       "      <td>5.303301e+10</td>\n",
       "    </tr>\n",
       "    <tr>\n",
       "      <th>4</th>\n",
       "      <td>5YJSA1E21H</td>\n",
       "      <td>Thurston</td>\n",
       "      <td>Lacey</td>\n",
       "      <td>WA</td>\n",
       "      <td>98516.0</td>\n",
       "      <td>2017</td>\n",
       "      <td>TESLA</td>\n",
       "      <td>MODEL S</td>\n",
       "      <td>Battery Electric Vehicle (BEV)</td>\n",
       "      <td>Clean Alternative Fuel Vehicle Eligible</td>\n",
       "      <td>210</td>\n",
       "      <td>0</td>\n",
       "      <td>22.0</td>\n",
       "      <td>185810306</td>\n",
       "      <td>POINT (-122.75379 47.06316)</td>\n",
       "      <td>PUGET SOUND ENERGY INC</td>\n",
       "      <td>5.306701e+10</td>\n",
       "    </tr>\n",
       "  </tbody>\n",
       "</table>\n",
       "</div>"
      ],
      "text/plain": [
       "   VIN (1-10)    County     City State  Postal Code  Model Year    Make   \n",
       "0  5YJXCAE26J    Yakima   Yakima    WA      98908.0        2018   TESLA  \\\n",
       "1  JHMZC5F37M    Kitsap  Poulsbo    WA      98370.0        2021   HONDA   \n",
       "2  5YJ3E1EB0K      King  Seattle    WA      98199.0        2019   TESLA   \n",
       "3  1N4AZ0CP5D      King  Seattle    WA      98119.0        2013  NISSAN   \n",
       "4  5YJSA1E21H  Thurston    Lacey    WA      98516.0        2017   TESLA   \n",
       "\n",
       "     Model                   Electric Vehicle Type   \n",
       "0  MODEL X          Battery Electric Vehicle (BEV)  \\\n",
       "1  CLARITY  Plug-in Hybrid Electric Vehicle (PHEV)   \n",
       "2  MODEL 3          Battery Electric Vehicle (BEV)   \n",
       "3     LEAF          Battery Electric Vehicle (BEV)   \n",
       "4  MODEL S          Battery Electric Vehicle (BEV)   \n",
       "\n",
       "  Clean Alternative Fuel Vehicle (CAFV) Eligibility  Electric Range   \n",
       "0           Clean Alternative Fuel Vehicle Eligible             238  \\\n",
       "1           Clean Alternative Fuel Vehicle Eligible              47   \n",
       "2           Clean Alternative Fuel Vehicle Eligible             220   \n",
       "3           Clean Alternative Fuel Vehicle Eligible              75   \n",
       "4           Clean Alternative Fuel Vehicle Eligible             210   \n",
       "\n",
       "   Base MSRP  Legislative District  DOL Vehicle ID   \n",
       "0          0                  14.0       141151601  \\\n",
       "1          0                  23.0       171566447   \n",
       "2          0                  36.0         9426525   \n",
       "3          0                  36.0       211807760   \n",
       "4          0                  22.0       185810306   \n",
       "\n",
       "              Vehicle Location                              Electric Utility   \n",
       "0  POINT (-120.56916 46.58514)                                    PACIFICORP  \\\n",
       "1  POINT (-122.64681 47.73689)                        PUGET SOUND ENERGY INC   \n",
       "2  POINT (-122.40092 47.65908)  CITY OF SEATTLE - (WA)|CITY OF TACOMA - (WA)   \n",
       "3   POINT (-122.3684 47.64586)  CITY OF SEATTLE - (WA)|CITY OF TACOMA - (WA)   \n",
       "4  POINT (-122.75379 47.06316)                        PUGET SOUND ENERGY INC   \n",
       "\n",
       "   2020 Census Tract  \n",
       "0       5.307700e+10  \n",
       "1       5.303509e+10  \n",
       "2       5.303301e+10  \n",
       "3       5.303301e+10  \n",
       "4       5.306701e+10  "
      ]
     },
     "execution_count": 354,
     "metadata": {},
     "output_type": "execute_result"
    }
   ],
   "source": [
    "import pandas as pd\n",
    "import matplotlib.pyplot as plt\n",
    "\n",
    "# Read the data from the given link\n",
    "url = \"https://data.wa.gov/api/views/f6w7-q2d2/rows.csv?accessType=DOWNLOAD\"\n",
    "df = pd.read_csv(url)\n",
    "df.head()"
   ]
  },
  {
   "cell_type": "code",
   "execution_count": 355,
   "metadata": {},
   "outputs": [
    {
     "data": {
      "text/plain": [
       "array(['Clean Alternative Fuel Vehicle Eligible',\n",
       "       'Not eligible due to low battery range',\n",
       "       'Eligibility unknown as battery range has not been researched'],\n",
       "      dtype=object)"
      ]
     },
     "execution_count": 355,
     "metadata": {},
     "output_type": "execute_result"
    }
   ],
   "source": [
    "df['Clean Alternative Fuel Vehicle (CAFV) Eligibility'].unique()"
   ]
  },
  {
   "cell_type": "code",
   "execution_count": 391,
   "metadata": {},
   "outputs": [
    {
     "name": "stdout",
     "output_type": "stream",
     "text": [
      "Cars and thier types that do not qualify for clean alternative fuel vehicle are as follows \n",
      "\n"
     ]
    },
    {
     "data": {
      "image/png": "[encoded data removed]",
      "text/plain": [
       "<Figure size 432x288 with 1 Axes>"
      ]
     },
     "metadata": {},
     "output_type": "display_data"
    }
   ],
   "source": [
    "# Question 1: Get all the cars and their types that do not qualify for clean alternative fuel vehicle\n",
    "non_clean_cars = df[df['Clean Alternative Fuel Vehicle (CAFV) Eligibility'] != 'Clean Alternative Fuel Vehicle Eligible'][['Make', 'Model']]\n",
    "print(\"Cars and thier types that do not qualify for clean alternative fuel vehicle are as follows \\n\")\n",
    "#print(non_clean_cars.to_string(index=False))\n",
    "\n",
    "l_ncc = len(non_clean_cars)\n",
    "total = df.shape[0]\n",
    "clean_cars = total - l_ncc\n",
    "# Create a pie chart\n",
    "labels = ['Non-Clean Cars', 'Clean Cars']\n",
    "sizes = [l_ncc, clean_cars]\n",
    "colors = ['red', 'green']\n",
    "explode = (0.1, 0)\n",
    "\n",
    "plt.pie(sizes, explode=explode, labels=labels, colors=colors, autopct='%1.1f%%', startangle=90)\n",
    "plt.title('Proportion of Non-Clean Cars')\n",
    "plt.show()"
   ]
  },
  {
   "cell_type": "code",
   "execution_count": 392,
   "metadata": {},
   "outputs": [
    {
     "name": "stdout",
     "output_type": "stream",
     "text": [
      "TESLA Cars with Model Year and Model Type made in Bothell City:\n"
     ]
    },
    {
     "data": {
      "image/png": "[encoded data removed]",
      "text/plain": [
       "<Figure size 432x288 with 1 Axes>"
      ]
     },
     "metadata": {},
     "output_type": "display_data"
    }
   ],
   "source": [
    "# Question 2: Get all TESLA cars with the model year, and model type made in Bothell City\n",
    "tesla_cars_bothell = df[(df['Make'] == 'TESLA') & (df['City'] == 'Bothell')][['Model Year', 'Model']]\n",
    "print(\"TESLA Cars with Model Year and Model Type made in Bothell City:\")\n",
    "#print(tesla_cars_bothell.to_string(index=False))\n",
    "\n",
    "# Calculate the total number of Tesla cars\n",
    "tesla_cars = df[df['Make'] == 'TESLA']\n",
    "total_tesla_count = len(tesla_cars)\n",
    "tesla_bothell_count = len(tesla_cars_bothell)\n",
    "\n",
    "labels = ['Tesla Bothell', 'Other Tesla']\n",
    "\n",
    "# Create values for the pie chart\n",
    "sizes = [tesla_bothell_count, total_tesla_count - tesla_bothell_count]\n",
    "\n",
    "# Create the pie chart\n",
    "explode = (0.1, 0)\n",
    "plt.pie(sizes, explode=explode ,labels=labels, autopct='%1.1f%%')\n",
    "plt.title(\"Distribution of Tesla Cars - Bothell vs Other\")\n",
    "plt.axis('equal')  # Equal aspect ratio ensures that pie is drawn as a circle\n",
    "plt.show()"
   ]
  },
  {
   "cell_type": "code",
   "execution_count": 404,
   "metadata": {},
   "outputs": [
    {
     "data": {
      "text/plain": [
       "34066"
      ]
     },
     "execution_count": 404,
     "metadata": {},
     "output_type": "execute_result"
    }
   ],
   "source": [
    "#Get all the cars that have an electric range of more than 100, and were made after 2015\n",
    "electric_15 = df[(df['Electric Range'] > 100) & (df['Model Year'] > 2015)][['Make', 'Model']]\n",
    "len(electric_15)\n",
    "#since there are 34k names , I have not pinted it\n",
    "#print(electric_15.to_string(index=False))"
   ]
  },
  {
   "cell_type": "code",
   "execution_count": 421,
   "metadata": {},
   "outputs": [
    {
     "data": {
      "image/png": "[encoded data removed]",
      "text/plain": [
       "<Figure size 864x720 with 1 Axes>"
      ]
     },
     "metadata": {
      "needs_background": "light"
     },
     "output_type": "display_data"
    }
   ],
   "source": [
    "#Since tehere are so many cities, I am only showing top 10 city\n",
    "#Number of top cities to include\n",
    "top_cities_count = 10\n",
    "\n",
    "# Get the top cities with the highest frequency of electric vehicle types\n",
    "top_cities = df['City'].value_counts().nlargest(top_cities_count)\n",
    "\n",
    "# Filtering the dataframe to include only the top cities\n",
    "df_top_cities = df[df['City'].isin(top_cities.index)]\n",
    "\n",
    "# Plot the distribution of electric vehicle types by the top cities using a horizontal bar plot\n",
    "plt.figure(figsize=(12, 10))\n",
    "sns.countplot(data=df_top_cities, y='City', hue='Electric Vehicle Type')\n",
    "plt.xlabel('Count',fontsize=15)\n",
    "plt.ylabel('City',fontsize=15)\n",
    "plt.title('Distribution of Electric Vehicle Types by Top Cities',fontsize=20)\n",
    "plt.legend(title='Electric Vehicle Type',fontsize=15)\n",
    "plt.show()\n"
   ]
  },
  {
   "cell_type": "code",
   "execution_count": null,
   "metadata": {},
   "outputs": [],
   "source": []
  },
  {
   "cell_type": "code",
   "execution_count": null,
   "metadata": {},
   "outputs": [],
   "source": []
  },
  {
   "cell_type": "markdown",
   "metadata": {},
   "source": [
    "Question 10 -\n",
    "\n",
    "Write a program to count the number of verbs, nouns, pronouns, and adjectives in a given particular phrase or\n",
    "paragraph, and return their respective count as a dictionary.\n",
    "\n",
    "Note -\n",
    "\n",
    "1. Write code comments wherever required for code\n",
    "\n",
    "2. You have to write at least 2 additional test cases in which your program will run successfully and provide\n",
    "an explanation for the same."
   ]
  },
  {
   "cell_type": "code",
   "execution_count": 431,
   "metadata": {},
   "outputs": [
    {
     "name": "stdout",
     "output_type": "stream",
     "text": [
      "In the first text that is 'The quick brown fox jumps over the lazy dog.' there are - \n",
      " {'verbs': 1, 'nouns': 3, 'pronouns': 0, 'adjectives': 2}\n",
      " \n",
      " In the second text that is 'AI will not replace humans, its the humans that know AI that will replace' there are - \n",
      " {'verbs': 4, 'nouns': 3, 'pronouns': 1, 'adjectives': 0}\n"
     ]
    }
   ],
   "source": [
    "import nltk\n",
    "from nltk.tokenize import word_tokenize\n",
    "from nltk.tag import pos_tag\n",
    "\n",
    "def count_pos_tags(text):\n",
    "    # Tokenize the text into words\n",
    "    words = word_tokenize(text)\n",
    "    \n",
    "    # Perform part-of-speech tagging\n",
    "    tagged_words = pos_tag(words)\n",
    "    \n",
    "    # Initialize counters\n",
    "    verb_count = 0\n",
    "    noun_count = 0\n",
    "    pronoun_count = 0\n",
    "    adjective_count = 0\n",
    "    \n",
    "    # Iterating over tagged words and counting the respective POS tags\n",
    "    for word, tag in tagged_words:\n",
    "        if tag.startswith('VB'):  # Verb tags start with 'VB'\n",
    "            verb_count += 1\n",
    "        elif tag.startswith('NN'):  # Noun tags start with 'NN'\n",
    "            noun_count += 1\n",
    "        elif tag.startswith('PRP'):  # Pronoun tags start with 'PRP'\n",
    "            pronoun_count += 1\n",
    "        elif tag.startswith('JJ'):  # Adjective tags start with 'JJ'\n",
    "            adjective_count += 1\n",
    "    \n",
    "    # Create a dictionary of POS counts\n",
    "    pos_counts = {\n",
    "        'verbs': verb_count,\n",
    "        'nouns': noun_count,\n",
    "        'pronouns': pronoun_count,\n",
    "        'adjectives': adjective_count\n",
    "    }\n",
    "    \n",
    "    return pos_counts\n",
    "\n",
    "# Example usage\n",
    "text1 = \"The quick brown fox jumps over the lazy dog.\"\n",
    "text2 = \"AI will not replace humans, its the humans that know AI that will replace\"\n",
    "counts1 = count_pos_tags(text1)\n",
    "counts2 = count_pos_tags(text2)\n",
    "print(\"In the first text that is '%s' there are - \\n %s\" %(text1,counts1))\n",
    "print(\" \\n In the second text that is '%s' there are - \\n %s\" %(text2,counts2))"
   ]
  },
  {
   "cell_type": "code",
   "execution_count": null,
   "metadata": {},
   "outputs": [],
   "source": []
  }
 ],
 "metadata": {
  "kernelspec": {
   "display_name": "Python 3",
   "language": "python",
   "name": "python3"
  },
  "language_info": {
   "codemirror_mode": {
    "name": "ipython",
    "version": 3
   },
   "file_extension": ".py",
   "mimetype": "text/x-python",
   "name": "python",
   "nbconvert_exporter": "python",
   "pygments_lexer": "ipython3",
   "version": "3.8.5"
  }
 },
 "nbformat": 4,
 "nbformat_minor": 4
}
